{
 "cells": [
  {
   "cell_type": "markdown",
   "metadata": {
    "collapsed": true
   },
   "source": [
    "### Machine Learning Technic in Credit Score Modeling System\n",
    "\n",
    "#### ABSTRACT\n",
    "\n",
    "   Every lender's organization such as banks and credit card companies use credit scores for determining the creditworthiness of clients. Currently, they are using numerical scoring system in where the score is determined by the compering new customer vs. existing customer profile. This doesn’t capture the behavior of certain individual entities or more optimal ways to segment scoring models. Now it has been analyzed that the problem can be use optimized using machine learning technique. In this study, we applied various machine learning technic to identify the bad loans, minimize credit risk and maximize the profit of a Bank. Hence this study is intended to find the best modeling with best performance and accuracy.\n",
    "   \n",
    "#### Keywords\n",
    "\n",
    "    Machine Learning, Python, Credit Scoring, Logistic Regression, KNN, Decision Trees, Random Forest.\n",
    "    \n",
    "### Introduction :\n",
    "\n",
    "The process of deciding to accept or reject a client‟s credit by banks is commonly executed via judgmental techniques and/or credit scoring models. A good credit risk assessment method can help ﬁnancial institutions to grant loans to creditable applicants, thus increase proﬁts; it can also deny credit for the non-creditable applicants, so decrease losses. In recent years, credit scoring has been become one of the primary ways for ﬁnancial institutions to assess credit risk,improve cash ﬂow, reduce possible risks and make managerial decisions. The factors involved in determining this likelihood are complex, and extensive statistical analysis and modelling are required to predict the outcome for each individual case. In this modern computerized world, this process of deciding can be optimized using statistical methods in machine learning.\n",
    "\n",
    "In business terms, we try to minimize the risk and maximize of profit for the bank. To minimize loss from the bank’s perspective, the bank needs a decision rule regarding who to give approval of the loan and who not to. An applicant’s demographic and socio-economic profiles are considered by loan managers before a decision is taken regarding his/her loan application.\n",
    "\n",
    "Here we are going to design a Credit Risk Modelling System for lender's Organization. In our country due to some unknown reasons few of loans are get classified. So a good credit risk modelling system can help to forecast the credit risk. Our study is to develop a credit risk modelling system which can minimize the risk of Credit given to people and maximize bank profit .\n",
    "\n",
    "Hence this study is intended to find the best modelling with best performance and accuracy. In this project we will sort out different challenges during data collection and filtering and suitable classification algorithm to find the best prossibilites of loan .Later with evaluation metrics we will evaluate our data and will try to find the best solutions for the Provided Data set .\n",
    "\n",
    "### Exploratory Data Analysis And Data Preprocessing :\n",
    "Pre-processing refers to the transformations applied to the data before feeding it to the algorithm. Data Preprocessing,Includes Data Collection , Cleaning ,Conversion of features , Imputing missing data ,features standardizations , feature scaling and identify new potential features.\n",
    "\n",
    "#### Source of Data Set :\n",
    "\n",
    "We have been used data set provided by Microsoft Corporation for analysis and research purpose.\n",
    "  \n",
    "Lets get started by importing important packages and the data set.\n",
    "    "
   ]
  },
  {
   "cell_type": "code",
   "execution_count": 3,
   "metadata": {
    "collapsed": true
   },
   "outputs": [],
   "source": [
    "import numpy as np\n",
    "import pandas as pd\n",
    "import matplotlib.pyplot as plt\n",
    "import seaborn as sns\n",
    "%matplotlib inline\n",
    "sns.set_style('darkgrid')\n",
    "import warnings\n",
    "warnings.filterwarnings(\"ignore\")\n",
    "\n",
    "from sklearn.tree import DecisionTreeClassifier\n",
    "from sklearn.cross_validation import cross_val_score\n",
    "from sklearn.preprocessing import Imputer\n",
    "from sklearn.pipeline import Pipeline\n",
    "\n",
    "from sklearn.metrics import classification_report,confusion_matrix\n",
    "\n",
    "from sklearn.metrics import accuracy_score\n",
    "from sklearn.metrics import recall_score\n",
    "from sklearn.metrics import precision_score\n",
    "from sklearn.metrics import f1_score\n",
    "\n",
    "import warnings\n",
    "warnings.filterwarnings(\"ignore\")\n",
    "\n",
    "import time"
   ]
  },
  {
   "cell_type": "code",
   "execution_count": 4,
   "metadata": {
    "collapsed": false
   },
   "outputs": [],
   "source": [
    "loan_data_df=pd.read_csv('LoansTrainingSetV2.csv')"
   ]
  },
  {
   "cell_type": "code",
   "execution_count": 5,
   "metadata": {
    "collapsed": false
   },
   "outputs": [
    {
     "data": {
      "text/html": [
       "<div>\n",
       "<table border=\"1\" class=\"dataframe\">\n",
       "  <thead>\n",
       "    <tr style=\"text-align: right;\">\n",
       "      <th></th>\n",
       "      <th>Loan ID</th>\n",
       "      <th>Customer ID</th>\n",
       "      <th>Loan Status</th>\n",
       "      <th>Current Loan Amount</th>\n",
       "      <th>Term</th>\n",
       "      <th>Credit Score</th>\n",
       "      <th>Years in current job</th>\n",
       "      <th>Home Ownership</th>\n",
       "      <th>Annual Income</th>\n",
       "      <th>Purpose</th>\n",
       "      <th>Monthly Debt</th>\n",
       "      <th>Years of Credit History</th>\n",
       "      <th>Months since last delinquent</th>\n",
       "      <th>Number of Open Accounts</th>\n",
       "      <th>Number of Credit Problems</th>\n",
       "      <th>Current Credit Balance</th>\n",
       "      <th>Maximum Open Credit</th>\n",
       "      <th>Bankruptcies</th>\n",
       "      <th>Tax Liens</th>\n",
       "    </tr>\n",
       "  </thead>\n",
       "  <tbody>\n",
       "    <tr>\n",
       "      <th>0</th>\n",
       "      <td>6cf51492-02a2-423e-b93d-676f05b9ad53</td>\n",
       "      <td>7c202b37-2add-44e8-9aea-d5b119aea935</td>\n",
       "      <td>Charged Off</td>\n",
       "      <td>12232</td>\n",
       "      <td>Short Term</td>\n",
       "      <td>7280.0</td>\n",
       "      <td>&lt; 1 year</td>\n",
       "      <td>Rent</td>\n",
       "      <td>46643.0</td>\n",
       "      <td>Debt Consolidation</td>\n",
       "      <td>777.39</td>\n",
       "      <td>18.0</td>\n",
       "      <td>10.0</td>\n",
       "      <td>12</td>\n",
       "      <td>0</td>\n",
       "      <td>6762</td>\n",
       "      <td>7946</td>\n",
       "      <td>0.0</td>\n",
       "      <td>0.0</td>\n",
       "    </tr>\n",
       "    <tr>\n",
       "      <th>1</th>\n",
       "      <td>552e7ade-4292-4354-9ff9-c48031697d72</td>\n",
       "      <td>e7217b0a-07ac-47dd-b379-577b5a35b7c6</td>\n",
       "      <td>Charged Off</td>\n",
       "      <td>25014</td>\n",
       "      <td>Long Term</td>\n",
       "      <td>7330.0</td>\n",
       "      <td>10+ years</td>\n",
       "      <td>Home Mortgage</td>\n",
       "      <td>81099.0</td>\n",
       "      <td>Debt Consolidation</td>\n",
       "      <td>892.09</td>\n",
       "      <td>26.7</td>\n",
       "      <td>NaN</td>\n",
       "      <td>14</td>\n",
       "      <td>0</td>\n",
       "      <td>35706</td>\n",
       "      <td>77961</td>\n",
       "      <td>0.0</td>\n",
       "      <td>0.0</td>\n",
       "    </tr>\n",
       "    <tr>\n",
       "      <th>2</th>\n",
       "      <td>9b5e32b3-8d76-4801-afc8-d729d5a2e6b9</td>\n",
       "      <td>0a62fc41-16c8-40b5-92ff-9e4b763ce714</td>\n",
       "      <td>Charged Off</td>\n",
       "      <td>16117</td>\n",
       "      <td>Short Term</td>\n",
       "      <td>7240.0</td>\n",
       "      <td>9 years</td>\n",
       "      <td>Home Mortgage</td>\n",
       "      <td>60438.0</td>\n",
       "      <td>Home Improvements</td>\n",
       "      <td>1244.02</td>\n",
       "      <td>16.7</td>\n",
       "      <td>32.0</td>\n",
       "      <td>11</td>\n",
       "      <td>1</td>\n",
       "      <td>11275</td>\n",
       "      <td>14815</td>\n",
       "      <td>1.0</td>\n",
       "      <td>0.0</td>\n",
       "    </tr>\n",
       "    <tr>\n",
       "      <th>3</th>\n",
       "      <td>5419b7c7-ac11-4be2-a8a7-b131fb6d6dbe</td>\n",
       "      <td>30f36c59-5182-4482-8bbb-5b736849ae43</td>\n",
       "      <td>Charged Off</td>\n",
       "      <td>11716</td>\n",
       "      <td>Short Term</td>\n",
       "      <td>7400.0</td>\n",
       "      <td>3 years</td>\n",
       "      <td>Rent</td>\n",
       "      <td>34171.0</td>\n",
       "      <td>Debt Consolidation</td>\n",
       "      <td>990.94</td>\n",
       "      <td>10.0</td>\n",
       "      <td>NaN</td>\n",
       "      <td>21</td>\n",
       "      <td>0</td>\n",
       "      <td>7009</td>\n",
       "      <td>43533</td>\n",
       "      <td>0.0</td>\n",
       "      <td>0.0</td>\n",
       "    </tr>\n",
       "    <tr>\n",
       "      <th>4</th>\n",
       "      <td>1450910f-9495-4fc9-afaf-9bdf4b9821df</td>\n",
       "      <td>70c26012-bba5-42c0-8dcb-75295ada31bb</td>\n",
       "      <td>Charged Off</td>\n",
       "      <td>9789</td>\n",
       "      <td>Long Term</td>\n",
       "      <td>6860.0</td>\n",
       "      <td>10+ years</td>\n",
       "      <td>Home Mortgage</td>\n",
       "      <td>47003.0</td>\n",
       "      <td>Home Improvements</td>\n",
       "      <td>503.71</td>\n",
       "      <td>16.7</td>\n",
       "      <td>25.0</td>\n",
       "      <td>13</td>\n",
       "      <td>1</td>\n",
       "      <td>16913</td>\n",
       "      <td>19553</td>\n",
       "      <td>1.0</td>\n",
       "      <td>0.0</td>\n",
       "    </tr>\n",
       "  </tbody>\n",
       "</table>\n",
       "</div>"
      ],
      "text/plain": [
       "                                Loan ID                           Customer ID  \\\n",
       "0  6cf51492-02a2-423e-b93d-676f05b9ad53  7c202b37-2add-44e8-9aea-d5b119aea935   \n",
       "1  552e7ade-4292-4354-9ff9-c48031697d72  e7217b0a-07ac-47dd-b379-577b5a35b7c6   \n",
       "2  9b5e32b3-8d76-4801-afc8-d729d5a2e6b9  0a62fc41-16c8-40b5-92ff-9e4b763ce714   \n",
       "3  5419b7c7-ac11-4be2-a8a7-b131fb6d6dbe  30f36c59-5182-4482-8bbb-5b736849ae43   \n",
       "4  1450910f-9495-4fc9-afaf-9bdf4b9821df  70c26012-bba5-42c0-8dcb-75295ada31bb   \n",
       "\n",
       "   Loan Status  Current Loan Amount        Term  Credit Score  \\\n",
       "0  Charged Off                12232  Short Term        7280.0   \n",
       "1  Charged Off                25014   Long Term        7330.0   \n",
       "2  Charged Off                16117  Short Term        7240.0   \n",
       "3  Charged Off                11716  Short Term        7400.0   \n",
       "4  Charged Off                 9789   Long Term        6860.0   \n",
       "\n",
       "  Years in current job Home Ownership  Annual Income             Purpose  \\\n",
       "0             < 1 year           Rent        46643.0  Debt Consolidation   \n",
       "1            10+ years  Home Mortgage        81099.0  Debt Consolidation   \n",
       "2              9 years  Home Mortgage        60438.0   Home Improvements   \n",
       "3              3 years           Rent        34171.0  Debt Consolidation   \n",
       "4            10+ years  Home Mortgage        47003.0   Home Improvements   \n",
       "\n",
       "  Monthly Debt  Years of Credit History  Months since last delinquent  \\\n",
       "0       777.39                     18.0                          10.0   \n",
       "1       892.09                     26.7                           NaN   \n",
       "2      1244.02                     16.7                          32.0   \n",
       "3       990.94                     10.0                           NaN   \n",
       "4       503.71                     16.7                          25.0   \n",
       "\n",
       "   Number of Open Accounts  Number of Credit Problems  Current Credit Balance  \\\n",
       "0                       12                          0                    6762   \n",
       "1                       14                          0                   35706   \n",
       "2                       11                          1                   11275   \n",
       "3                       21                          0                    7009   \n",
       "4                       13                          1                   16913   \n",
       "\n",
       "  Maximum Open Credit  Bankruptcies  Tax Liens  \n",
       "0                7946           0.0        0.0  \n",
       "1               77961           0.0        0.0  \n",
       "2               14815           1.0        0.0  \n",
       "3               43533           0.0        0.0  \n",
       "4               19553           1.0        0.0  "
      ]
     },
     "execution_count": 5,
     "metadata": {},
     "output_type": "execute_result"
    }
   ],
   "source": [
    "loan_data_df.head(5)"
   ]
  },
  {
   "cell_type": "markdown",
   "metadata": {},
   "source": [
    "Rename all column name"
   ]
  },
  {
   "cell_type": "code",
   "execution_count": 6,
   "metadata": {
    "collapsed": true
   },
   "outputs": [],
   "source": [
    "loan_data =loan_data_df.rename(columns = {'Loan ID':'loan_id' ,\\\n",
    "                                          'Customer ID' :'customer_id' ,\\\n",
    "                                          'Loan Status' :'loan_status',\\\n",
    "                                          'Current Loan Amount' : 'current_loan_amount' ,\\\n",
    "                                          'Term' :'term',\\\n",
    "                                          'Credit Score':'credit_score' ,\\\n",
    "                                          'Years in current job' : 'years_in_current_job',\\\n",
    "                                          'Home Ownership' :'home_ownership' ,\\\n",
    "                                          'Annual Income' :'annual_income' ,\\\n",
    "                                          'Purpose' :'purpose',\\\n",
    "                                          'Monthly Debt' :'monthly_debt',\\\n",
    "                                          'Years of Credit History' :'years_of_credit_history' ,\\\n",
    "                                          'Months since last delinquent' :'months_since_last_delinquent',\n",
    "                                          'Number of Open Accounts' : 'number_of_open_accounts' ,\n",
    "                                          'Number of Credit Problems': 'number_of_credit_problems',\n",
    "                                          'Current Credit Balance' : 'current_credit_balance' ,\n",
    "                                          'Maximum Open Credit' :'maximum_open_credit',\n",
    "                                          'Bankruptcies':'bankruptcies',\n",
    "                                          'Tax Liens' :'tax_liens',\n",
    "                                          'flag' :'defaulter_or_not'\n",
    "                                           })"
   ]
  },
  {
   "cell_type": "code",
   "execution_count": 7,
   "metadata": {
    "collapsed": false
   },
   "outputs": [
    {
     "data": {
      "text/html": [
       "<div>\n",
       "<table border=\"1\" class=\"dataframe\">\n",
       "  <thead>\n",
       "    <tr style=\"text-align: right;\">\n",
       "      <th></th>\n",
       "      <th>loan_id</th>\n",
       "      <th>customer_id</th>\n",
       "      <th>loan_status</th>\n",
       "      <th>current_loan_amount</th>\n",
       "      <th>term</th>\n",
       "      <th>credit_score</th>\n",
       "      <th>years_in_current_job</th>\n",
       "      <th>home_ownership</th>\n",
       "      <th>annual_income</th>\n",
       "      <th>purpose</th>\n",
       "      <th>monthly_debt</th>\n",
       "      <th>years_of_credit_history</th>\n",
       "      <th>months_since_last_delinquent</th>\n",
       "      <th>number_of_open_accounts</th>\n",
       "      <th>number_of_credit_problems</th>\n",
       "      <th>current_credit_balance</th>\n",
       "      <th>maximum_open_credit</th>\n",
       "      <th>bankruptcies</th>\n",
       "      <th>tax_liens</th>\n",
       "    </tr>\n",
       "  </thead>\n",
       "  <tbody>\n",
       "    <tr>\n",
       "      <th>0</th>\n",
       "      <td>6cf51492-02a2-423e-b93d-676f05b9ad53</td>\n",
       "      <td>7c202b37-2add-44e8-9aea-d5b119aea935</td>\n",
       "      <td>Charged Off</td>\n",
       "      <td>12232</td>\n",
       "      <td>Short Term</td>\n",
       "      <td>7280.0</td>\n",
       "      <td>&lt; 1 year</td>\n",
       "      <td>Rent</td>\n",
       "      <td>46643.0</td>\n",
       "      <td>Debt Consolidation</td>\n",
       "      <td>777.39</td>\n",
       "      <td>18.0</td>\n",
       "      <td>10.0</td>\n",
       "      <td>12</td>\n",
       "      <td>0</td>\n",
       "      <td>6762</td>\n",
       "      <td>7946</td>\n",
       "      <td>0.0</td>\n",
       "      <td>0.0</td>\n",
       "    </tr>\n",
       "    <tr>\n",
       "      <th>1</th>\n",
       "      <td>552e7ade-4292-4354-9ff9-c48031697d72</td>\n",
       "      <td>e7217b0a-07ac-47dd-b379-577b5a35b7c6</td>\n",
       "      <td>Charged Off</td>\n",
       "      <td>25014</td>\n",
       "      <td>Long Term</td>\n",
       "      <td>7330.0</td>\n",
       "      <td>10+ years</td>\n",
       "      <td>Home Mortgage</td>\n",
       "      <td>81099.0</td>\n",
       "      <td>Debt Consolidation</td>\n",
       "      <td>892.09</td>\n",
       "      <td>26.7</td>\n",
       "      <td>NaN</td>\n",
       "      <td>14</td>\n",
       "      <td>0</td>\n",
       "      <td>35706</td>\n",
       "      <td>77961</td>\n",
       "      <td>0.0</td>\n",
       "      <td>0.0</td>\n",
       "    </tr>\n",
       "    <tr>\n",
       "      <th>2</th>\n",
       "      <td>9b5e32b3-8d76-4801-afc8-d729d5a2e6b9</td>\n",
       "      <td>0a62fc41-16c8-40b5-92ff-9e4b763ce714</td>\n",
       "      <td>Charged Off</td>\n",
       "      <td>16117</td>\n",
       "      <td>Short Term</td>\n",
       "      <td>7240.0</td>\n",
       "      <td>9 years</td>\n",
       "      <td>Home Mortgage</td>\n",
       "      <td>60438.0</td>\n",
       "      <td>Home Improvements</td>\n",
       "      <td>1244.02</td>\n",
       "      <td>16.7</td>\n",
       "      <td>32.0</td>\n",
       "      <td>11</td>\n",
       "      <td>1</td>\n",
       "      <td>11275</td>\n",
       "      <td>14815</td>\n",
       "      <td>1.0</td>\n",
       "      <td>0.0</td>\n",
       "    </tr>\n",
       "    <tr>\n",
       "      <th>3</th>\n",
       "      <td>5419b7c7-ac11-4be2-a8a7-b131fb6d6dbe</td>\n",
       "      <td>30f36c59-5182-4482-8bbb-5b736849ae43</td>\n",
       "      <td>Charged Off</td>\n",
       "      <td>11716</td>\n",
       "      <td>Short Term</td>\n",
       "      <td>7400.0</td>\n",
       "      <td>3 years</td>\n",
       "      <td>Rent</td>\n",
       "      <td>34171.0</td>\n",
       "      <td>Debt Consolidation</td>\n",
       "      <td>990.94</td>\n",
       "      <td>10.0</td>\n",
       "      <td>NaN</td>\n",
       "      <td>21</td>\n",
       "      <td>0</td>\n",
       "      <td>7009</td>\n",
       "      <td>43533</td>\n",
       "      <td>0.0</td>\n",
       "      <td>0.0</td>\n",
       "    </tr>\n",
       "    <tr>\n",
       "      <th>4</th>\n",
       "      <td>1450910f-9495-4fc9-afaf-9bdf4b9821df</td>\n",
       "      <td>70c26012-bba5-42c0-8dcb-75295ada31bb</td>\n",
       "      <td>Charged Off</td>\n",
       "      <td>9789</td>\n",
       "      <td>Long Term</td>\n",
       "      <td>6860.0</td>\n",
       "      <td>10+ years</td>\n",
       "      <td>Home Mortgage</td>\n",
       "      <td>47003.0</td>\n",
       "      <td>Home Improvements</td>\n",
       "      <td>503.71</td>\n",
       "      <td>16.7</td>\n",
       "      <td>25.0</td>\n",
       "      <td>13</td>\n",
       "      <td>1</td>\n",
       "      <td>16913</td>\n",
       "      <td>19553</td>\n",
       "      <td>1.0</td>\n",
       "      <td>0.0</td>\n",
       "    </tr>\n",
       "  </tbody>\n",
       "</table>\n",
       "</div>"
      ],
      "text/plain": [
       "                                loan_id                           customer_id  \\\n",
       "0  6cf51492-02a2-423e-b93d-676f05b9ad53  7c202b37-2add-44e8-9aea-d5b119aea935   \n",
       "1  552e7ade-4292-4354-9ff9-c48031697d72  e7217b0a-07ac-47dd-b379-577b5a35b7c6   \n",
       "2  9b5e32b3-8d76-4801-afc8-d729d5a2e6b9  0a62fc41-16c8-40b5-92ff-9e4b763ce714   \n",
       "3  5419b7c7-ac11-4be2-a8a7-b131fb6d6dbe  30f36c59-5182-4482-8bbb-5b736849ae43   \n",
       "4  1450910f-9495-4fc9-afaf-9bdf4b9821df  70c26012-bba5-42c0-8dcb-75295ada31bb   \n",
       "\n",
       "   loan_status  current_loan_amount        term  credit_score  \\\n",
       "0  Charged Off                12232  Short Term        7280.0   \n",
       "1  Charged Off                25014   Long Term        7330.0   \n",
       "2  Charged Off                16117  Short Term        7240.0   \n",
       "3  Charged Off                11716  Short Term        7400.0   \n",
       "4  Charged Off                 9789   Long Term        6860.0   \n",
       "\n",
       "  years_in_current_job home_ownership  annual_income             purpose  \\\n",
       "0             < 1 year           Rent        46643.0  Debt Consolidation   \n",
       "1            10+ years  Home Mortgage        81099.0  Debt Consolidation   \n",
       "2              9 years  Home Mortgage        60438.0   Home Improvements   \n",
       "3              3 years           Rent        34171.0  Debt Consolidation   \n",
       "4            10+ years  Home Mortgage        47003.0   Home Improvements   \n",
       "\n",
       "  monthly_debt  years_of_credit_history  months_since_last_delinquent  \\\n",
       "0       777.39                     18.0                          10.0   \n",
       "1       892.09                     26.7                           NaN   \n",
       "2      1244.02                     16.7                          32.0   \n",
       "3       990.94                     10.0                           NaN   \n",
       "4       503.71                     16.7                          25.0   \n",
       "\n",
       "   number_of_open_accounts  number_of_credit_problems  current_credit_balance  \\\n",
       "0                       12                          0                    6762   \n",
       "1                       14                          0                   35706   \n",
       "2                       11                          1                   11275   \n",
       "3                       21                          0                    7009   \n",
       "4                       13                          1                   16913   \n",
       "\n",
       "  maximum_open_credit  bankruptcies  tax_liens  \n",
       "0                7946           0.0        0.0  \n",
       "1               77961           0.0        0.0  \n",
       "2               14815           1.0        0.0  \n",
       "3               43533           0.0        0.0  \n",
       "4               19553           1.0        0.0  "
      ]
     },
     "execution_count": 7,
     "metadata": {},
     "output_type": "execute_result"
    }
   ],
   "source": [
    "loan_data.head(5)"
   ]
  },
  {
   "cell_type": "code",
   "execution_count": 8,
   "metadata": {
    "collapsed": false
   },
   "outputs": [
    {
     "name": "stdout",
     "output_type": "stream",
     "text": [
      "<class 'pandas.core.frame.DataFrame'>\n",
      "RangeIndex: 111107 entries, 0 to 111106\n",
      "Data columns (total 19 columns):\n",
      "loan_id                         111107 non-null object\n",
      "customer_id                     111107 non-null object\n",
      "loan_status                     111107 non-null object\n",
      "current_loan_amount             111107 non-null int64\n",
      "term                            111107 non-null object\n",
      "credit_score                    89769 non-null float64\n",
      "years_in_current_job            111107 non-null object\n",
      "home_ownership                  111107 non-null object\n",
      "annual_income                   89769 non-null float64\n",
      "purpose                         111107 non-null object\n",
      "monthly_debt                    111107 non-null object\n",
      "years_of_credit_history         111107 non-null float64\n",
      "months_since_last_delinquent    52104 non-null float64\n",
      "number_of_open_accounts         111107 non-null int64\n",
      "number_of_credit_problems       111107 non-null int64\n",
      "current_credit_balance          111107 non-null int64\n",
      "maximum_open_credit             111107 non-null object\n",
      "bankruptcies                    110879 non-null float64\n",
      "tax_liens                       111096 non-null float64\n",
      "dtypes: float64(6), int64(4), object(9)\n",
      "memory usage: 16.1+ MB\n"
     ]
    }
   ],
   "source": [
    "loan_data.info()"
   ]
  },
  {
   "cell_type": "markdown",
   "metadata": {},
   "source": [
    "# Start Data Analysis"
   ]
  },
  {
   "cell_type": "code",
   "execution_count": 9,
   "metadata": {
    "collapsed": false
   },
   "outputs": [
    {
     "data": {
      "text/plain": [
       "<matplotlib.axes._subplots.AxesSubplot at 0x16ec8e2b5f8>"
      ]
     },
     "execution_count": 9,
     "metadata": {},
     "output_type": "execute_result"
    },
    {
     "data": {
      "image/png": "[encoded data removed]",
      "text/plain": [
       "<matplotlib.figure.Figure at 0x16ec17cdf28>"
      ]
     },
     "metadata": {},
     "output_type": "display_data"
    }
   ],
   "source": [
    "sns.countplot(x='loan_status',data=loan_data,palette='rainbow')"
   ]
  },
  {
   "cell_type": "markdown",
   "metadata": {},
   "source": [
    "Only two value in loan status column and it is non-numerical data, we will convert into numerical data."
   ]
  },
  {
   "cell_type": "code",
   "execution_count": 10,
   "metadata": {
    "collapsed": false
   },
   "outputs": [],
   "source": [
    "loan_data['flag'] = loan_data['loan_status'].replace(['Charged Off' ,'Fully Paid'], [1, 0]) ;"
   ]
  },
  {
   "cell_type": "code",
   "execution_count": 11,
   "metadata": {
    "collapsed": false
   },
   "outputs": [
    {
     "data": {
      "text/plain": [
       "<matplotlib.axes._subplots.AxesSubplot at 0x16ec4d834e0>"
      ]
     },
     "execution_count": 11,
     "metadata": {},
     "output_type": "execute_result"
    },
    {
     "data": {
      "image/png": "[encoded data removed]",
      "text/plain": [
       "<matplotlib.figure.Figure at 0x16ec4d89a90>"
      ]
     },
     "metadata": {},
     "output_type": "display_data"
    }
   ],
   "source": [
    "sns.countplot(x='flag',data=loan_data,palette='rainbow')"
   ]
  },
  {
   "cell_type": "markdown",
   "metadata": {
    "collapsed": true
   },
   "source": [
    "Analyze the dimension of data and observation list"
   ]
  },
  {
   "cell_type": "code",
   "execution_count": 12,
   "metadata": {
    "collapsed": false
   },
   "outputs": [
    {
     "name": "stdout",
     "output_type": "stream",
     "text": [
      "Dimensions of Data \n",
      "(111107, 20)\n",
      "\n",
      "\n",
      "Data types : \n",
      "loan_id                          object\n",
      "customer_id                      object\n",
      "loan_status                      object\n",
      "current_loan_amount               int64\n",
      "term                             object\n",
      "credit_score                    float64\n",
      "years_in_current_job             object\n",
      "home_ownership                   object\n",
      "annual_income                   float64\n",
      "purpose                          object\n",
      "monthly_debt                     object\n",
      "years_of_credit_history         float64\n",
      "months_since_last_delinquent    float64\n",
      "number_of_open_accounts           int64\n",
      "number_of_credit_problems         int64\n",
      "current_credit_balance            int64\n",
      "maximum_open_credit              object\n",
      "bankruptcies                    float64\n",
      "tax_liens                       float64\n",
      "flag                              int64\n",
      "dtype: object\n"
     ]
    }
   ],
   "source": [
    "print (\"Dimensions of Data \")\n",
    "print (loan_data.shape)\n",
    "print ('\\n')\n",
    "print (\"Data types : \")\n",
    "print (loan_data.dtypes)"
   ]
  },
  {
   "cell_type": "markdown",
   "metadata": {},
   "source": [
    "Intially From the Source Data There are 20 Features and 111107 observations. Several of the column variables are encoded as numeric data types (ints and floats) but a few of them are encoded as \"object\". Now check the head of the data to get a better sense of what the variables look like."
   ]
  },
  {
   "cell_type": "code",
   "execution_count": 13,
   "metadata": {
    "collapsed": false
   },
   "outputs": [
    {
     "data": {
      "text/html": [
       "<div>\n",
       "<table border=\"1\" class=\"dataframe\">\n",
       "  <thead>\n",
       "    <tr style=\"text-align: right;\">\n",
       "      <th></th>\n",
       "      <th>loan_id</th>\n",
       "      <th>customer_id</th>\n",
       "      <th>loan_status</th>\n",
       "      <th>current_loan_amount</th>\n",
       "      <th>term</th>\n",
       "      <th>credit_score</th>\n",
       "      <th>years_in_current_job</th>\n",
       "      <th>home_ownership</th>\n",
       "      <th>annual_income</th>\n",
       "      <th>purpose</th>\n",
       "      <th>monthly_debt</th>\n",
       "      <th>years_of_credit_history</th>\n",
       "      <th>months_since_last_delinquent</th>\n",
       "      <th>number_of_open_accounts</th>\n",
       "      <th>number_of_credit_problems</th>\n",
       "      <th>current_credit_balance</th>\n",
       "      <th>maximum_open_credit</th>\n",
       "      <th>bankruptcies</th>\n",
       "      <th>tax_liens</th>\n",
       "      <th>flag</th>\n",
       "    </tr>\n",
       "  </thead>\n",
       "  <tbody>\n",
       "    <tr>\n",
       "      <th>0</th>\n",
       "      <td>6cf51492-02a2-423e-b93d-676f05b9ad53</td>\n",
       "      <td>7c202b37-2add-44e8-9aea-d5b119aea935</td>\n",
       "      <td>Charged Off</td>\n",
       "      <td>12232</td>\n",
       "      <td>Short Term</td>\n",
       "      <td>7280.0</td>\n",
       "      <td>&lt; 1 year</td>\n",
       "      <td>Rent</td>\n",
       "      <td>46643.0</td>\n",
       "      <td>Debt Consolidation</td>\n",
       "      <td>777.39</td>\n",
       "      <td>18.0</td>\n",
       "      <td>10.0</td>\n",
       "      <td>12</td>\n",
       "      <td>0</td>\n",
       "      <td>6762</td>\n",
       "      <td>7946</td>\n",
       "      <td>0.0</td>\n",
       "      <td>0.0</td>\n",
       "      <td>1</td>\n",
       "    </tr>\n",
       "    <tr>\n",
       "      <th>1</th>\n",
       "      <td>552e7ade-4292-4354-9ff9-c48031697d72</td>\n",
       "      <td>e7217b0a-07ac-47dd-b379-577b5a35b7c6</td>\n",
       "      <td>Charged Off</td>\n",
       "      <td>25014</td>\n",
       "      <td>Long Term</td>\n",
       "      <td>7330.0</td>\n",
       "      <td>10+ years</td>\n",
       "      <td>Home Mortgage</td>\n",
       "      <td>81099.0</td>\n",
       "      <td>Debt Consolidation</td>\n",
       "      <td>892.09</td>\n",
       "      <td>26.7</td>\n",
       "      <td>NaN</td>\n",
       "      <td>14</td>\n",
       "      <td>0</td>\n",
       "      <td>35706</td>\n",
       "      <td>77961</td>\n",
       "      <td>0.0</td>\n",
       "      <td>0.0</td>\n",
       "      <td>1</td>\n",
       "    </tr>\n",
       "    <tr>\n",
       "      <th>2</th>\n",
       "      <td>9b5e32b3-8d76-4801-afc8-d729d5a2e6b9</td>\n",
       "      <td>0a62fc41-16c8-40b5-92ff-9e4b763ce714</td>\n",
       "      <td>Charged Off</td>\n",
       "      <td>16117</td>\n",
       "      <td>Short Term</td>\n",
       "      <td>7240.0</td>\n",
       "      <td>9 years</td>\n",
       "      <td>Home Mortgage</td>\n",
       "      <td>60438.0</td>\n",
       "      <td>Home Improvements</td>\n",
       "      <td>1244.02</td>\n",
       "      <td>16.7</td>\n",
       "      <td>32.0</td>\n",
       "      <td>11</td>\n",
       "      <td>1</td>\n",
       "      <td>11275</td>\n",
       "      <td>14815</td>\n",
       "      <td>1.0</td>\n",
       "      <td>0.0</td>\n",
       "      <td>1</td>\n",
       "    </tr>\n",
       "    <tr>\n",
       "      <th>3</th>\n",
       "      <td>5419b7c7-ac11-4be2-a8a7-b131fb6d6dbe</td>\n",
       "      <td>30f36c59-5182-4482-8bbb-5b736849ae43</td>\n",
       "      <td>Charged Off</td>\n",
       "      <td>11716</td>\n",
       "      <td>Short Term</td>\n",
       "      <td>7400.0</td>\n",
       "      <td>3 years</td>\n",
       "      <td>Rent</td>\n",
       "      <td>34171.0</td>\n",
       "      <td>Debt Consolidation</td>\n",
       "      <td>990.94</td>\n",
       "      <td>10.0</td>\n",
       "      <td>NaN</td>\n",
       "      <td>21</td>\n",
       "      <td>0</td>\n",
       "      <td>7009</td>\n",
       "      <td>43533</td>\n",
       "      <td>0.0</td>\n",
       "      <td>0.0</td>\n",
       "      <td>1</td>\n",
       "    </tr>\n",
       "    <tr>\n",
       "      <th>4</th>\n",
       "      <td>1450910f-9495-4fc9-afaf-9bdf4b9821df</td>\n",
       "      <td>70c26012-bba5-42c0-8dcb-75295ada31bb</td>\n",
       "      <td>Charged Off</td>\n",
       "      <td>9789</td>\n",
       "      <td>Long Term</td>\n",
       "      <td>6860.0</td>\n",
       "      <td>10+ years</td>\n",
       "      <td>Home Mortgage</td>\n",
       "      <td>47003.0</td>\n",
       "      <td>Home Improvements</td>\n",
       "      <td>503.71</td>\n",
       "      <td>16.7</td>\n",
       "      <td>25.0</td>\n",
       "      <td>13</td>\n",
       "      <td>1</td>\n",
       "      <td>16913</td>\n",
       "      <td>19553</td>\n",
       "      <td>1.0</td>\n",
       "      <td>0.0</td>\n",
       "      <td>1</td>\n",
       "    </tr>\n",
       "  </tbody>\n",
       "</table>\n",
       "</div>"
      ],
      "text/plain": [
       "                                loan_id                           customer_id  \\\n",
       "0  6cf51492-02a2-423e-b93d-676f05b9ad53  7c202b37-2add-44e8-9aea-d5b119aea935   \n",
       "1  552e7ade-4292-4354-9ff9-c48031697d72  e7217b0a-07ac-47dd-b379-577b5a35b7c6   \n",
       "2  9b5e32b3-8d76-4801-afc8-d729d5a2e6b9  0a62fc41-16c8-40b5-92ff-9e4b763ce714   \n",
       "3  5419b7c7-ac11-4be2-a8a7-b131fb6d6dbe  30f36c59-5182-4482-8bbb-5b736849ae43   \n",
       "4  1450910f-9495-4fc9-afaf-9bdf4b9821df  70c26012-bba5-42c0-8dcb-75295ada31bb   \n",
       "\n",
       "   loan_status  current_loan_amount        term  credit_score  \\\n",
       "0  Charged Off                12232  Short Term        7280.0   \n",
       "1  Charged Off                25014   Long Term        7330.0   \n",
       "2  Charged Off                16117  Short Term        7240.0   \n",
       "3  Charged Off                11716  Short Term        7400.0   \n",
       "4  Charged Off                 9789   Long Term        6860.0   \n",
       "\n",
       "  years_in_current_job home_ownership  annual_income             purpose  \\\n",
       "0             < 1 year           Rent        46643.0  Debt Consolidation   \n",
       "1            10+ years  Home Mortgage        81099.0  Debt Consolidation   \n",
       "2              9 years  Home Mortgage        60438.0   Home Improvements   \n",
       "3              3 years           Rent        34171.0  Debt Consolidation   \n",
       "4            10+ years  Home Mortgage        47003.0   Home Improvements   \n",
       "\n",
       "  monthly_debt  years_of_credit_history  months_since_last_delinquent  \\\n",
       "0       777.39                     18.0                          10.0   \n",
       "1       892.09                     26.7                           NaN   \n",
       "2      1244.02                     16.7                          32.0   \n",
       "3       990.94                     10.0                           NaN   \n",
       "4       503.71                     16.7                          25.0   \n",
       "\n",
       "   number_of_open_accounts  number_of_credit_problems  current_credit_balance  \\\n",
       "0                       12                          0                    6762   \n",
       "1                       14                          0                   35706   \n",
       "2                       11                          1                   11275   \n",
       "3                       21                          0                    7009   \n",
       "4                       13                          1                   16913   \n",
       "\n",
       "  maximum_open_credit  bankruptcies  tax_liens  flag  \n",
       "0                7946           0.0        0.0     1  \n",
       "1               77961           0.0        0.0     1  \n",
       "2               14815           1.0        0.0     1  \n",
       "3               43533           0.0        0.0     1  \n",
       "4               19553           1.0        0.0     1  "
      ]
     },
     "execution_count": 13,
     "metadata": {},
     "output_type": "execute_result"
    }
   ],
   "source": [
    "loan_data.head(5)"
   ]
  },
  {
   "cell_type": "markdown",
   "metadata": {},
   "source": [
    "After getting a sense of the data's structure, it is a good idea to look at a statistical summary of the variables."
   ]
  },
  {
   "cell_type": "code",
   "execution_count": 14,
   "metadata": {
    "collapsed": false
   },
   "outputs": [
    {
     "data": {
      "text/html": [
       "<div>\n",
       "<table border=\"1\" class=\"dataframe\">\n",
       "  <thead>\n",
       "    <tr style=\"text-align: right;\">\n",
       "      <th></th>\n",
       "      <th>current_loan_amount</th>\n",
       "      <th>credit_score</th>\n",
       "      <th>annual_income</th>\n",
       "      <th>years_of_credit_history</th>\n",
       "      <th>months_since_last_delinquent</th>\n",
       "      <th>number_of_open_accounts</th>\n",
       "      <th>number_of_credit_problems</th>\n",
       "      <th>current_credit_balance</th>\n",
       "      <th>bankruptcies</th>\n",
       "      <th>tax_liens</th>\n",
       "      <th>flag</th>\n",
       "    </tr>\n",
       "  </thead>\n",
       "  <tbody>\n",
       "    <tr>\n",
       "      <th>count</th>\n",
       "      <td>1.111070e+05</td>\n",
       "      <td>89769.000000</td>\n",
       "      <td>8.976900e+04</td>\n",
       "      <td>111107.000000</td>\n",
       "      <td>52104.000000</td>\n",
       "      <td>111107.000000</td>\n",
       "      <td>111107.000000</td>\n",
       "      <td>1.111070e+05</td>\n",
       "      <td>110879.00000</td>\n",
       "      <td>111096.000000</td>\n",
       "      <td>111107.000000</td>\n",
       "    </tr>\n",
       "    <tr>\n",
       "      <th>mean</th>\n",
       "      <td>1.147718e+07</td>\n",
       "      <td>1075.795029</td>\n",
       "      <td>7.248600e+04</td>\n",
       "      <td>18.201003</td>\n",
       "      <td>34.902272</td>\n",
       "      <td>11.125105</td>\n",
       "      <td>0.168027</td>\n",
       "      <td>1.548314e+04</td>\n",
       "      <td>0.11766</td>\n",
       "      <td>0.029353</td>\n",
       "      <td>0.226565</td>\n",
       "    </tr>\n",
       "    <tr>\n",
       "      <th>std</th>\n",
       "      <td>3.185508e+07</td>\n",
       "      <td>1474.133505</td>\n",
       "      <td>5.593094e+04</td>\n",
       "      <td>7.014495</td>\n",
       "      <td>21.970696</td>\n",
       "      <td>5.010267</td>\n",
       "      <td>0.484212</td>\n",
       "      <td>1.982115e+04</td>\n",
       "      <td>0.35142</td>\n",
       "      <td>0.260575</td>\n",
       "      <td>0.418611</td>\n",
       "    </tr>\n",
       "    <tr>\n",
       "      <th>min</th>\n",
       "      <td>4.910000e+02</td>\n",
       "      <td>585.000000</td>\n",
       "      <td>4.033000e+03</td>\n",
       "      <td>3.600000</td>\n",
       "      <td>0.000000</td>\n",
       "      <td>0.000000</td>\n",
       "      <td>0.000000</td>\n",
       "      <td>0.000000e+00</td>\n",
       "      <td>0.00000</td>\n",
       "      <td>0.000000</td>\n",
       "      <td>0.000000</td>\n",
       "    </tr>\n",
       "    <tr>\n",
       "      <th>25%</th>\n",
       "      <td>8.162000e+03</td>\n",
       "      <td>NaN</td>\n",
       "      <td>NaN</td>\n",
       "      <td>13.500000</td>\n",
       "      <td>NaN</td>\n",
       "      <td>8.000000</td>\n",
       "      <td>0.000000</td>\n",
       "      <td>5.905000e+03</td>\n",
       "      <td>NaN</td>\n",
       "      <td>NaN</td>\n",
       "      <td>0.000000</td>\n",
       "    </tr>\n",
       "    <tr>\n",
       "      <th>50%</th>\n",
       "      <td>1.418300e+04</td>\n",
       "      <td>NaN</td>\n",
       "      <td>NaN</td>\n",
       "      <td>16.900000</td>\n",
       "      <td>NaN</td>\n",
       "      <td>10.000000</td>\n",
       "      <td>0.000000</td>\n",
       "      <td>1.102700e+04</td>\n",
       "      <td>NaN</td>\n",
       "      <td>NaN</td>\n",
       "      <td>0.000000</td>\n",
       "    </tr>\n",
       "    <tr>\n",
       "      <th>75%</th>\n",
       "      <td>2.382200e+04</td>\n",
       "      <td>NaN</td>\n",
       "      <td>NaN</td>\n",
       "      <td>21.700000</td>\n",
       "      <td>NaN</td>\n",
       "      <td>14.000000</td>\n",
       "      <td>0.000000</td>\n",
       "      <td>1.933800e+04</td>\n",
       "      <td>NaN</td>\n",
       "      <td>NaN</td>\n",
       "      <td>0.000000</td>\n",
       "    </tr>\n",
       "    <tr>\n",
       "      <th>max</th>\n",
       "      <td>1.000000e+08</td>\n",
       "      <td>7510.000000</td>\n",
       "      <td>8.713547e+06</td>\n",
       "      <td>70.500000</td>\n",
       "      <td>176.000000</td>\n",
       "      <td>76.000000</td>\n",
       "      <td>15.000000</td>\n",
       "      <td>1.730472e+06</td>\n",
       "      <td>7.00000</td>\n",
       "      <td>15.000000</td>\n",
       "      <td>1.000000</td>\n",
       "    </tr>\n",
       "  </tbody>\n",
       "</table>\n",
       "</div>"
      ],
      "text/plain": [
       "       current_loan_amount  credit_score  annual_income  \\\n",
       "count         1.111070e+05  89769.000000   8.976900e+04   \n",
       "mean          1.147718e+07   1075.795029   7.248600e+04   \n",
       "std           3.185508e+07   1474.133505   5.593094e+04   \n",
       "min           4.910000e+02    585.000000   4.033000e+03   \n",
       "25%           8.162000e+03           NaN            NaN   \n",
       "50%           1.418300e+04           NaN            NaN   \n",
       "75%           2.382200e+04           NaN            NaN   \n",
       "max           1.000000e+08   7510.000000   8.713547e+06   \n",
       "\n",
       "       years_of_credit_history  months_since_last_delinquent  \\\n",
       "count            111107.000000                  52104.000000   \n",
       "mean                 18.201003                     34.902272   \n",
       "std                   7.014495                     21.970696   \n",
       "min                   3.600000                      0.000000   \n",
       "25%                  13.500000                           NaN   \n",
       "50%                  16.900000                           NaN   \n",
       "75%                  21.700000                           NaN   \n",
       "max                  70.500000                    176.000000   \n",
       "\n",
       "       number_of_open_accounts  number_of_credit_problems  \\\n",
       "count            111107.000000              111107.000000   \n",
       "mean                 11.125105                   0.168027   \n",
       "std                   5.010267                   0.484212   \n",
       "min                   0.000000                   0.000000   \n",
       "25%                   8.000000                   0.000000   \n",
       "50%                  10.000000                   0.000000   \n",
       "75%                  14.000000                   0.000000   \n",
       "max                  76.000000                  15.000000   \n",
       "\n",
       "       current_credit_balance  bankruptcies      tax_liens           flag  \n",
       "count            1.111070e+05  110879.00000  111096.000000  111107.000000  \n",
       "mean             1.548314e+04       0.11766       0.029353       0.226565  \n",
       "std              1.982115e+04       0.35142       0.260575       0.418611  \n",
       "min              0.000000e+00       0.00000       0.000000       0.000000  \n",
       "25%              5.905000e+03           NaN            NaN       0.000000  \n",
       "50%              1.102700e+04           NaN            NaN       0.000000  \n",
       "75%              1.933800e+04           NaN            NaN       0.000000  \n",
       "max              1.730472e+06       7.00000      15.000000       1.000000  "
      ]
     },
     "execution_count": 14,
     "metadata": {},
     "output_type": "execute_result"
    }
   ],
   "source": [
    "loan_data.describe()"
   ]
  },
  {
   "cell_type": "markdown",
   "metadata": {},
   "source": [
    "It's appear that non-numeric columns has dropped from the statistical summary provided by loan_data.describe(). There are some non numerical values for this summary may not reflect the proper. Now get a summary of the categorical variables by passing only those columns to describe()."
   ]
  },
  {
   "cell_type": "code",
   "execution_count": 15,
   "metadata": {
    "collapsed": false
   },
   "outputs": [
    {
     "name": "stdout",
     "output_type": "stream",
     "text": [
      "Index(['loan_id', 'customer_id', 'loan_status', 'term', 'years_in_current_job',\n",
      "       'home_ownership', 'purpose', 'monthly_debt', 'maximum_open_credit'],\n",
      "      dtype='object')\n"
     ]
    }
   ],
   "source": [
    "categorical = loan_data.dtypes[loan_data.dtypes == \"object\"].index\n",
    "print(categorical)"
   ]
  },
  {
   "cell_type": "code",
   "execution_count": 16,
   "metadata": {
    "collapsed": false
   },
   "outputs": [
    {
     "data": {
      "text/html": [
       "<div>\n",
       "<table border=\"1\" class=\"dataframe\">\n",
       "  <thead>\n",
       "    <tr style=\"text-align: right;\">\n",
       "      <th></th>\n",
       "      <th>loan_id</th>\n",
       "      <th>customer_id</th>\n",
       "      <th>loan_status</th>\n",
       "      <th>term</th>\n",
       "      <th>years_in_current_job</th>\n",
       "      <th>home_ownership</th>\n",
       "      <th>purpose</th>\n",
       "      <th>monthly_debt</th>\n",
       "      <th>maximum_open_credit</th>\n",
       "    </tr>\n",
       "  </thead>\n",
       "  <tbody>\n",
       "    <tr>\n",
       "      <th>count</th>\n",
       "      <td>111107</td>\n",
       "      <td>111107</td>\n",
       "      <td>111107</td>\n",
       "      <td>111107</td>\n",
       "      <td>111107</td>\n",
       "      <td>111107</td>\n",
       "      <td>111107</td>\n",
       "      <td>111107</td>\n",
       "      <td>111107</td>\n",
       "    </tr>\n",
       "    <tr>\n",
       "      <th>unique</th>\n",
       "      <td>88910</td>\n",
       "      <td>88910</td>\n",
       "      <td>2</td>\n",
       "      <td>2</td>\n",
       "      <td>12</td>\n",
       "      <td>4</td>\n",
       "      <td>16</td>\n",
       "      <td>90362</td>\n",
       "      <td>67309</td>\n",
       "    </tr>\n",
       "    <tr>\n",
       "      <th>top</th>\n",
       "      <td>b6d3ec81-72d5-4c68-a2ca-5f753c47cc77</td>\n",
       "      <td>f5e6a7e1-d91f-4ae1-ae11-4948e25db7a8</td>\n",
       "      <td>Fully Paid</td>\n",
       "      <td>Short Term</td>\n",
       "      <td>10+ years</td>\n",
       "      <td>Home Mortgage</td>\n",
       "      <td>Debt Consolidation</td>\n",
       "      <td>0</td>\n",
       "      <td>0</td>\n",
       "    </tr>\n",
       "    <tr>\n",
       "      <th>freq</th>\n",
       "      <td>2</td>\n",
       "      <td>2</td>\n",
       "      <td>85934</td>\n",
       "      <td>80274</td>\n",
       "      <td>34551</td>\n",
       "      <td>53818</td>\n",
       "      <td>87277</td>\n",
       "      <td>55</td>\n",
       "      <td>450</td>\n",
       "    </tr>\n",
       "  </tbody>\n",
       "</table>\n",
       "</div>"
      ],
      "text/plain": [
       "                                     loan_id  \\\n",
       "count                                 111107   \n",
       "unique                                 88910   \n",
       "top     b6d3ec81-72d5-4c68-a2ca-5f753c47cc77   \n",
       "freq                                       2   \n",
       "\n",
       "                                 customer_id loan_status        term  \\\n",
       "count                                 111107      111107      111107   \n",
       "unique                                 88910           2           2   \n",
       "top     f5e6a7e1-d91f-4ae1-ae11-4948e25db7a8  Fully Paid  Short Term   \n",
       "freq                                       2       85934       80274   \n",
       "\n",
       "       years_in_current_job home_ownership             purpose monthly_debt  \\\n",
       "count                111107         111107              111107       111107   \n",
       "unique                   12              4                  16        90362   \n",
       "top               10+ years  Home Mortgage  Debt Consolidation            0   \n",
       "freq                  34551          53818               87277           55   \n",
       "\n",
       "       maximum_open_credit  \n",
       "count               111107  \n",
       "unique               67309  \n",
       "top                      0  \n",
       "freq                   450  "
      ]
     },
     "execution_count": 16,
     "metadata": {},
     "output_type": "execute_result"
    }
   ],
   "source": [
    "loan_data[categorical].describe()"
   ]
  },
  {
   "cell_type": "markdown",
   "metadata": {},
   "source": [
    "Although describe() gives a concise overview of each variable, it does not necessarily give us enough information to determine what each variable means. That's why it is required to know the perpose of each column data. Now let's get to know the purpose of each variable."
   ]
  },
  {
   "cell_type": "code",
   "execution_count": 17,
   "metadata": {
    "collapsed": true
   },
   "outputs": [],
   "source": [
    "# Loan ID: A unique Identifier for the loan information.\n",
    "\n",
    "# Customer ID: A unique identifier for the customer. Customers may have more than one loan.\n",
    "\n",
    "# Loan Status: A categorical variable indicating if the loan was paid back or defaulted.\n",
    "\n",
    "# Current Loan Amount: This is the loan amount that was either completely paid off, or the amount that was defaulted.\n",
    "\n",
    "# Term: A categorical variable indicating if it is a short term or long term loan.\n",
    "\n",
    "# Credit Score: A value between 0 and 800 indicating the riskiness of the borrowers credit history.\n",
    "\n",
    "# Years in current job: A categorical variable indicating how many years the customer has been in their current job.\n",
    "\n",
    "# Home Ownership: Categorical variable indicating home ownership. Values are \"Rent\", \"Home Mortgage\", and \"Own\". If the value is OWN, then the customer is a home owner with no mortgage\n",
    "\n",
    "# Annual Income: The customer's annual income\n",
    "\n",
    "# Purpose: A description of the purpose of the loan.\n",
    "\n",
    "# Monthly Debt: The customer's monthly payment for their existing loans\n",
    "\n",
    "# Years of Credit History: The years since the first entry in the customer’s credit history •\n",
    "# Months since last delinquent: Months since the last loan delinquent payment\n",
    "\n",
    "# Number of Open Accounts: The total number of open credit cards\n",
    "\n",
    "#  Number of Credit Problems: The number of credit problems in the customer records.\n",
    "\n",
    "# Current Credit Balance: The current total debt for the customer\n",
    "\n",
    "#  Maximum Open Credit: The maximum credit limit for all credit sources.\n",
    "\n",
    "# Bankruptcies: The number of bankruptcies\n",
    "\n",
    "# Tax Liens: The number of tax liens."
   ]
  },
  {
   "cell_type": "markdown",
   "metadata": {},
   "source": [
    "After looking at the data for the first time, I have to consider the following things.\n",
    "\n",
    "   1. Remove unnecessary variable.\n",
    "   2. Analyze the NA values, outliers or other strange values.\n",
    "   3. Perform transformation for categorical variables.\n",
    "   4. Consider new variable.\n",
    "\n",
    "For the rest of this lesson we will address each of these questions in the context of this data set."
   ]
  },
  {
   "cell_type": "markdown",
   "metadata": {},
   "source": [
    "#### Remove All variables that are not important for evaluation:\n",
    "\n",
    "Getting rid of unnecessary variables is a good first step when dealing with any data set, since dropping variables reduces complexity and can make computation on the data faster. Loan id is random varaible which does not make any sense . As we are building the model on loan level not on customer level ,we are considering the attributes of loans but not the customer. So we are removing the customer id.\n"
   ]
  },
  {
   "cell_type": "code",
   "execution_count": 18,
   "metadata": {
    "collapsed": false
   },
   "outputs": [],
   "source": [
    "del loan_data[\"customer_id\"]\n",
    "del loan_data[\"loan_id\"]"
   ]
  },
  {
   "cell_type": "markdown",
   "metadata": {},
   "source": [
    "#### Analyze the NA values, outliers or other strange values: \n",
    "Data sets are often littered with missing data, extreme data points called outliers and other strange values. Missing values, outliers and strange values can negatively affect statistical tests and models and may even cause certain functions to fail.\n",
    "In Python, you can detect missing values with the pd.isnull() function:"
   ]
  },
  {
   "cell_type": "markdown",
   "metadata": {},
   "source": [
    "1. Detecting Missing Values :\n",
    "  let us first find out how many values are missing . Missing values shows the data discripency. Let us see whether we can find some detail insight about the data ."
   ]
  },
  {
   "cell_type": "code",
   "execution_count": 19,
   "metadata": {
    "collapsed": false
   },
   "outputs": [
    {
     "data": {
      "text/plain": [
       "loan_status                         0\n",
       "current_loan_amount                 0\n",
       "term                                0\n",
       "credit_score                    21338\n",
       "years_in_current_job                0\n",
       "home_ownership                      0\n",
       "annual_income                   21338\n",
       "purpose                             0\n",
       "monthly_debt                        0\n",
       "years_of_credit_history             0\n",
       "months_since_last_delinquent    59003\n",
       "number_of_open_accounts             0\n",
       "number_of_credit_problems           0\n",
       "current_credit_balance              0\n",
       "maximum_open_credit                 0\n",
       "bankruptcies                      228\n",
       "tax_liens                          11\n",
       "flag                                0\n",
       "dtype: int64"
      ]
     },
     "execution_count": 19,
     "metadata": {},
     "output_type": "execute_result"
    }
   ],
   "source": [
    "loan_data.isnull().sum()"
   ]
  },
  {
   "cell_type": "markdown",
   "metadata": {},
   "source": [
    "From the above chart we can find the there are 42676 observations where credit score and annual income are not available . let us find how many of them are defaulter or not."
   ]
  },
  {
   "cell_type": "code",
   "execution_count": 20,
   "metadata": {
    "collapsed": false
   },
   "outputs": [
    {
     "data": {
      "text/html": [
       "<div>\n",
       "<table border=\"1\" class=\"dataframe\">\n",
       "  <thead>\n",
       "    <tr style=\"text-align: right;\">\n",
       "      <th></th>\n",
       "      <th>counts</th>\n",
       "      <th>freqs</th>\n",
       "    </tr>\n",
       "    <tr>\n",
       "      <th>categories</th>\n",
       "      <th></th>\n",
       "      <th></th>\n",
       "    </tr>\n",
       "  </thead>\n",
       "  <tbody>\n",
       "    <tr>\n",
       "      <th>Charged Off</th>\n",
       "      <td>6044</td>\n",
       "      <td>0.283251</td>\n",
       "    </tr>\n",
       "    <tr>\n",
       "      <th>Fully Paid</th>\n",
       "      <td>15294</td>\n",
       "      <td>0.716749</td>\n",
       "    </tr>\n",
       "  </tbody>\n",
       "</table>\n",
       "</div>"
      ],
      "text/plain": [
       "             counts     freqs\n",
       "categories                   \n",
       "Charged Off    6044  0.283251\n",
       "Fully Paid    15294  0.716749"
      ]
     },
     "execution_count": 20,
     "metadata": {},
     "output_type": "execute_result"
    }
   ],
   "source": [
    "missing_cr_score =   loan_data[pd.isnull(loan_data[\"credit_score\"])] \n",
    "missing_cr_score= pd.Categorical(missing_cr_score['loan_status'] )\n",
    "m  =  pd.DataFrame(missing_cr_score.describe())\n",
    "m"
   ]
  },
  {
   "cell_type": "code",
   "execution_count": 21,
   "metadata": {
    "collapsed": false
   },
   "outputs": [
    {
     "data": {
      "text/plain": [
       "<matplotlib.axes._subplots.AxesSubplot at 0x16ec4df2668>"
      ]
     },
     "execution_count": 21,
     "metadata": {},
     "output_type": "execute_result"
    },
    {
     "data": {
      "image/png": "[encoded data removed]",
      "text/plain": [
       "<matplotlib.figure.Figure at 0x16ec4e07278>"
      ]
     },
     "metadata": {},
     "output_type": "display_data"
    }
   ],
   "source": [
    "m.freqs.plot(kind =\"bar\" , color =\"blue\")"
   ]
  },
  {
   "cell_type": "markdown",
   "metadata": {},
   "source": [
    "Approximately 29% of loan has been charged off where credit score is not available . Now we will explore the annual_income variable to find how missing values impact there .\n"
   ]
  },
  {
   "cell_type": "code",
   "execution_count": 22,
   "metadata": {
    "collapsed": false
   },
   "outputs": [
    {
     "data": {
      "text/html": [
       "<div>\n",
       "<table border=\"1\" class=\"dataframe\">\n",
       "  <thead>\n",
       "    <tr style=\"text-align: right;\">\n",
       "      <th></th>\n",
       "      <th>counts</th>\n",
       "      <th>freqs</th>\n",
       "    </tr>\n",
       "    <tr>\n",
       "      <th>categories</th>\n",
       "      <th></th>\n",
       "      <th></th>\n",
       "    </tr>\n",
       "  </thead>\n",
       "  <tbody>\n",
       "    <tr>\n",
       "      <th>Charged Off</th>\n",
       "      <td>6044</td>\n",
       "      <td>0.283251</td>\n",
       "    </tr>\n",
       "    <tr>\n",
       "      <th>Fully Paid</th>\n",
       "      <td>15294</td>\n",
       "      <td>0.716749</td>\n",
       "    </tr>\n",
       "  </tbody>\n",
       "</table>\n",
       "</div>"
      ],
      "text/plain": [
       "             counts     freqs\n",
       "categories                   \n",
       "Charged Off    6044  0.283251\n",
       "Fully Paid    15294  0.716749"
      ]
     },
     "execution_count": 22,
     "metadata": {},
     "output_type": "execute_result"
    }
   ],
   "source": [
    "missing_annual_income = loan_data[pd.isnull(loan_data[\"annual_income\"])] \n",
    "missing_annual_income = pd.Categorical(missing_annual_income['loan_status'] )\n",
    "m  =  pd.DataFrame(missing_annual_income.describe())\n",
    "m"
   ]
  },
  {
   "cell_type": "code",
   "execution_count": 23,
   "metadata": {
    "collapsed": false
   },
   "outputs": [
    {
     "data": {
      "text/plain": [
       "<matplotlib.axes._subplots.AxesSubplot at 0x16ec54b9160>"
      ]
     },
     "execution_count": 23,
     "metadata": {},
     "output_type": "execute_result"
    },
    {
     "data": {
      "image/png": "[encoded data removed]",
      "text/plain": [
       "<matplotlib.figure.Figure at 0x16ec54fc550>"
      ]
     },
     "metadata": {},
     "output_type": "display_data"
    }
   ],
   "source": [
    "m.freqs.plot(kind =\"bar\" , color =\"blue\")"
   ]
  },
  {
   "cell_type": "markdown",
   "metadata": {},
   "source": [
    "Similar impact like credit score .so later we will try to explore relationship between annual_income and credit_score variables ."
   ]
  },
  {
   "cell_type": "code",
   "execution_count": 24,
   "metadata": {
    "collapsed": false
   },
   "outputs": [
    {
     "data": {
      "text/html": [
       "<div>\n",
       "<table border=\"1\" class=\"dataframe\">\n",
       "  <thead>\n",
       "    <tr style=\"text-align: right;\">\n",
       "      <th></th>\n",
       "      <th>counts</th>\n",
       "      <th>freqs</th>\n",
       "    </tr>\n",
       "    <tr>\n",
       "      <th>categories</th>\n",
       "      <th></th>\n",
       "      <th></th>\n",
       "    </tr>\n",
       "  </thead>\n",
       "  <tbody>\n",
       "    <tr>\n",
       "      <th>Charged Off</th>\n",
       "      <td>13604</td>\n",
       "      <td>0.230565</td>\n",
       "    </tr>\n",
       "    <tr>\n",
       "      <th>Fully Paid</th>\n",
       "      <td>45399</td>\n",
       "      <td>0.769435</td>\n",
       "    </tr>\n",
       "  </tbody>\n",
       "</table>\n",
       "</div>"
      ],
      "text/plain": [
       "             counts     freqs\n",
       "categories                   \n",
       "Charged Off   13604  0.230565\n",
       "Fully Paid    45399  0.769435"
      ]
     },
     "execution_count": 24,
     "metadata": {},
     "output_type": "execute_result"
    }
   ],
   "source": [
    "missing = loan_data[pd.isnull(loan_data[\"months_since_last_delinquent\"])] \n",
    "missing = pd.Categorical(missing['loan_status'] )\n",
    "m  =  pd.DataFrame(missing.describe())\n",
    "m"
   ]
  },
  {
   "cell_type": "code",
   "execution_count": 25,
   "metadata": {
    "collapsed": false
   },
   "outputs": [
    {
     "data": {
      "text/plain": [
       "<matplotlib.axes._subplots.AxesSubplot at 0x16ec6022e48>"
      ]
     },
     "execution_count": 25,
     "metadata": {},
     "output_type": "execute_result"
    },
    {
     "data": {
      "image/png": "[encoded data removed]",
      "text/plain": [
       "<matplotlib.figure.Figure at 0x16ec602da90>"
      ]
     },
     "metadata": {},
     "output_type": "display_data"
    }
   ],
   "source": [
    "m.freqs.plot(kind =\"bar\" , color =\"blue\")"
   ]
  },
  {
   "cell_type": "code",
   "execution_count": 26,
   "metadata": {
    "collapsed": false
   },
   "outputs": [
    {
     "data": {
      "text/html": [
       "<div>\n",
       "<table border=\"1\" class=\"dataframe\">\n",
       "  <thead>\n",
       "    <tr style=\"text-align: right;\">\n",
       "      <th></th>\n",
       "      <th>current_loan_amount</th>\n",
       "      <th>credit_score</th>\n",
       "      <th>annual_income</th>\n",
       "      <th>years_of_credit_history</th>\n",
       "      <th>months_since_last_delinquent</th>\n",
       "      <th>number_of_open_accounts</th>\n",
       "      <th>number_of_credit_problems</th>\n",
       "      <th>current_credit_balance</th>\n",
       "      <th>bankruptcies</th>\n",
       "      <th>tax_liens</th>\n",
       "      <th>flag</th>\n",
       "    </tr>\n",
       "  </thead>\n",
       "  <tbody>\n",
       "    <tr>\n",
       "      <th>count</th>\n",
       "      <td>1.111070e+05</td>\n",
       "      <td>89769.000000</td>\n",
       "      <td>8.976900e+04</td>\n",
       "      <td>111107.000000</td>\n",
       "      <td>52104.000000</td>\n",
       "      <td>111107.000000</td>\n",
       "      <td>111107.000000</td>\n",
       "      <td>1.111070e+05</td>\n",
       "      <td>110879.00000</td>\n",
       "      <td>111096.000000</td>\n",
       "      <td>111107.000000</td>\n",
       "    </tr>\n",
       "    <tr>\n",
       "      <th>mean</th>\n",
       "      <td>1.147718e+07</td>\n",
       "      <td>1075.795029</td>\n",
       "      <td>7.248600e+04</td>\n",
       "      <td>18.201003</td>\n",
       "      <td>34.902272</td>\n",
       "      <td>11.125105</td>\n",
       "      <td>0.168027</td>\n",
       "      <td>1.548314e+04</td>\n",
       "      <td>0.11766</td>\n",
       "      <td>0.029353</td>\n",
       "      <td>0.226565</td>\n",
       "    </tr>\n",
       "    <tr>\n",
       "      <th>std</th>\n",
       "      <td>3.185508e+07</td>\n",
       "      <td>1474.133505</td>\n",
       "      <td>5.593094e+04</td>\n",
       "      <td>7.014495</td>\n",
       "      <td>21.970696</td>\n",
       "      <td>5.010267</td>\n",
       "      <td>0.484212</td>\n",
       "      <td>1.982115e+04</td>\n",
       "      <td>0.35142</td>\n",
       "      <td>0.260575</td>\n",
       "      <td>0.418611</td>\n",
       "    </tr>\n",
       "    <tr>\n",
       "      <th>min</th>\n",
       "      <td>4.910000e+02</td>\n",
       "      <td>585.000000</td>\n",
       "      <td>4.033000e+03</td>\n",
       "      <td>3.600000</td>\n",
       "      <td>0.000000</td>\n",
       "      <td>0.000000</td>\n",
       "      <td>0.000000</td>\n",
       "      <td>0.000000e+00</td>\n",
       "      <td>0.00000</td>\n",
       "      <td>0.000000</td>\n",
       "      <td>0.000000</td>\n",
       "    </tr>\n",
       "    <tr>\n",
       "      <th>25%</th>\n",
       "      <td>8.162000e+03</td>\n",
       "      <td>NaN</td>\n",
       "      <td>NaN</td>\n",
       "      <td>13.500000</td>\n",
       "      <td>NaN</td>\n",
       "      <td>8.000000</td>\n",
       "      <td>0.000000</td>\n",
       "      <td>5.905000e+03</td>\n",
       "      <td>NaN</td>\n",
       "      <td>NaN</td>\n",
       "      <td>0.000000</td>\n",
       "    </tr>\n",
       "    <tr>\n",
       "      <th>50%</th>\n",
       "      <td>1.418300e+04</td>\n",
       "      <td>NaN</td>\n",
       "      <td>NaN</td>\n",
       "      <td>16.900000</td>\n",
       "      <td>NaN</td>\n",
       "      <td>10.000000</td>\n",
       "      <td>0.000000</td>\n",
       "      <td>1.102700e+04</td>\n",
       "      <td>NaN</td>\n",
       "      <td>NaN</td>\n",
       "      <td>0.000000</td>\n",
       "    </tr>\n",
       "    <tr>\n",
       "      <th>75%</th>\n",
       "      <td>2.382200e+04</td>\n",
       "      <td>NaN</td>\n",
       "      <td>NaN</td>\n",
       "      <td>21.700000</td>\n",
       "      <td>NaN</td>\n",
       "      <td>14.000000</td>\n",
       "      <td>0.000000</td>\n",
       "      <td>1.933800e+04</td>\n",
       "      <td>NaN</td>\n",
       "      <td>NaN</td>\n",
       "      <td>0.000000</td>\n",
       "    </tr>\n",
       "    <tr>\n",
       "      <th>max</th>\n",
       "      <td>1.000000e+08</td>\n",
       "      <td>7510.000000</td>\n",
       "      <td>8.713547e+06</td>\n",
       "      <td>70.500000</td>\n",
       "      <td>176.000000</td>\n",
       "      <td>76.000000</td>\n",
       "      <td>15.000000</td>\n",
       "      <td>1.730472e+06</td>\n",
       "      <td>7.00000</td>\n",
       "      <td>15.000000</td>\n",
       "      <td>1.000000</td>\n",
       "    </tr>\n",
       "  </tbody>\n",
       "</table>\n",
       "</div>"
      ],
      "text/plain": [
       "       current_loan_amount  credit_score  annual_income  \\\n",
       "count         1.111070e+05  89769.000000   8.976900e+04   \n",
       "mean          1.147718e+07   1075.795029   7.248600e+04   \n",
       "std           3.185508e+07   1474.133505   5.593094e+04   \n",
       "min           4.910000e+02    585.000000   4.033000e+03   \n",
       "25%           8.162000e+03           NaN            NaN   \n",
       "50%           1.418300e+04           NaN            NaN   \n",
       "75%           2.382200e+04           NaN            NaN   \n",
       "max           1.000000e+08   7510.000000   8.713547e+06   \n",
       "\n",
       "       years_of_credit_history  months_since_last_delinquent  \\\n",
       "count            111107.000000                  52104.000000   \n",
       "mean                 18.201003                     34.902272   \n",
       "std                   7.014495                     21.970696   \n",
       "min                   3.600000                      0.000000   \n",
       "25%                  13.500000                           NaN   \n",
       "50%                  16.900000                           NaN   \n",
       "75%                  21.700000                           NaN   \n",
       "max                  70.500000                    176.000000   \n",
       "\n",
       "       number_of_open_accounts  number_of_credit_problems  \\\n",
       "count            111107.000000              111107.000000   \n",
       "mean                 11.125105                   0.168027   \n",
       "std                   5.010267                   0.484212   \n",
       "min                   0.000000                   0.000000   \n",
       "25%                   8.000000                   0.000000   \n",
       "50%                  10.000000                   0.000000   \n",
       "75%                  14.000000                   0.000000   \n",
       "max                  76.000000                  15.000000   \n",
       "\n",
       "       current_credit_balance  bankruptcies      tax_liens           flag  \n",
       "count            1.111070e+05  110879.00000  111096.000000  111107.000000  \n",
       "mean             1.548314e+04       0.11766       0.029353       0.226565  \n",
       "std              1.982115e+04       0.35142       0.260575       0.418611  \n",
       "min              0.000000e+00       0.00000       0.000000       0.000000  \n",
       "25%              5.905000e+03           NaN            NaN       0.000000  \n",
       "50%              1.102700e+04           NaN            NaN       0.000000  \n",
       "75%              1.933800e+04           NaN            NaN       0.000000  \n",
       "max              1.730472e+06       7.00000      15.000000       1.000000  "
      ]
     },
     "execution_count": 26,
     "metadata": {},
     "output_type": "execute_result"
    }
   ],
   "source": [
    "loan_data.describe()"
   ]
  },
  {
   "cell_type": "markdown",
   "metadata": {},
   "source": [
    "#### Performing the transformation for categorical variables."
   ]
  },
  {
   "cell_type": "markdown",
   "metadata": {},
   "source": [
    "We'll need to convert categorical features to dummy variables using pandas! Otherwise our machine learning algorithm won't be able to directly take in those features as inputs."
   ]
  },
  {
   "cell_type": "code",
   "execution_count": 27,
   "metadata": {
    "collapsed": false
   },
   "outputs": [],
   "source": [
    "def number_of_uniqe_values(p_column_name):\n",
    "    print (\"Column Name : {}\".format(p_column_name))\n",
    "    v_unique =loan_data[p_column_name].nunique()\n",
    "    print (\"Number of Unique Values : {}\".format(v_unique))\n",
    "    print ('\\n')"
   ]
  },
  {
   "cell_type": "code",
   "execution_count": null,
   "metadata": {
    "collapsed": true
   },
   "outputs": [],
   "source": []
  },
  {
   "cell_type": "code",
   "execution_count": 28,
   "metadata": {
    "collapsed": false
   },
   "outputs": [
    {
     "name": "stdout",
     "output_type": "stream",
     "text": [
      "Column Name : loan_status\n",
      "Number of Unique Values : 2\n",
      "\n",
      "\n",
      "Column Name : current_loan_amount\n",
      "Number of Unique Values : 22541\n",
      "\n",
      "\n",
      "Column Name : term\n",
      "Number of Unique Values : 2\n",
      "\n",
      "\n",
      "Column Name : credit_score\n",
      "Number of Unique Values : 326\n",
      "\n",
      "\n",
      "Column Name : years_in_current_job\n",
      "Number of Unique Values : 12\n",
      "\n",
      "\n",
      "Column Name : home_ownership\n",
      "Number of Unique Values : 4\n",
      "\n",
      "\n",
      "Column Name : annual_income\n",
      "Number of Unique Values : 37983\n",
      "\n",
      "\n",
      "Column Name : purpose\n",
      "Number of Unique Values : 16\n",
      "\n",
      "\n",
      "Column Name : monthly_debt\n",
      "Number of Unique Values : 90362\n",
      "\n",
      "\n",
      "Column Name : years_of_credit_history\n",
      "Number of Unique Values : 508\n",
      "\n",
      "\n",
      "Column Name : months_since_last_delinquent\n",
      "Number of Unique Values : 116\n",
      "\n",
      "\n",
      "Column Name : number_of_open_accounts\n",
      "Number of Unique Values : 52\n",
      "\n",
      "\n",
      "Column Name : number_of_credit_problems\n",
      "Number of Unique Values : 14\n",
      "\n",
      "\n",
      "Column Name : current_credit_balance\n",
      "Number of Unique Values : 33716\n",
      "\n",
      "\n",
      "Column Name : maximum_open_credit\n",
      "Number of Unique Values : 67309\n",
      "\n",
      "\n",
      "Column Name : bankruptcies\n",
      "Number of Unique Values : 8\n",
      "\n",
      "\n",
      "Column Name : tax_liens\n",
      "Number of Unique Values : 13\n",
      "\n",
      "\n",
      "Column Name : flag\n",
      "Number of Unique Values : 2\n",
      "\n",
      "\n"
     ]
    }
   ],
   "source": [
    "for ind in loan_data.columns:\n",
    "    number_of_uniqe_values(ind)"
   ]
  },
  {
   "cell_type": "markdown",
   "metadata": {},
   "source": [
    "#### Categorical Variables in the Data Set :\n",
    "There are four categorical Variables in the data set . Term of loans  , Purpose of loans , Home ownership and years in the current job . Among them though here years in current job is categorical variables but we will convert it to continuous as this will have significant impact on credit risk modeling .\n",
    "\n",
    "There are two types of loan . short term and long term . "
   ]
  },
  {
   "cell_type": "code",
   "execution_count": 29,
   "metadata": {
    "collapsed": false
   },
   "outputs": [
    {
     "data": {
      "text/html": [
       "<div>\n",
       "<table border=\"1\" class=\"dataframe\">\n",
       "  <thead>\n",
       "    <tr style=\"text-align: right;\">\n",
       "      <th>loan_status</th>\n",
       "      <th>Charged Off</th>\n",
       "      <th>Fully Paid</th>\n",
       "    </tr>\n",
       "    <tr>\n",
       "      <th>term</th>\n",
       "      <th></th>\n",
       "      <th></th>\n",
       "    </tr>\n",
       "  </thead>\n",
       "  <tbody>\n",
       "    <tr>\n",
       "      <th>Long Term</th>\n",
       "      <td>0.083</td>\n",
       "      <td>0.194</td>\n",
       "    </tr>\n",
       "    <tr>\n",
       "      <th>Short Term</th>\n",
       "      <td>0.143</td>\n",
       "      <td>0.579</td>\n",
       "    </tr>\n",
       "  </tbody>\n",
       "</table>\n",
       "</div>"
      ],
      "text/plain": [
       "loan_status  Charged Off  Fully Paid\n",
       "term                                \n",
       "Long Term          0.083       0.194\n",
       "Short Term         0.143       0.579"
      ]
     },
     "execution_count": 29,
     "metadata": {},
     "output_type": "execute_result"
    }
   ],
   "source": [
    "pd.options.display.float_format = '{:,.3f}'.format\n",
    "def calculate_amount(r ) :\n",
    "    return  r *1.0/ len(loan_data) \n",
    "ct = pd.crosstab(index=loan_data[\"term\"], \n",
    "                 columns=loan_data[\"loan_status\"] ).apply(lambda x : calculate_amount(x ) , axis = 1)\n",
    "ct"
   ]
  },
  {
   "cell_type": "code",
   "execution_count": 30,
   "metadata": {
    "collapsed": false
   },
   "outputs": [
    {
     "data": {
      "text/plain": [
       "<matplotlib.axes._subplots.AxesSubplot at 0x16ec609a198>"
      ]
     },
     "execution_count": 30,
     "metadata": {},
     "output_type": "execute_result"
    },
    {
     "data": {
      "image/png": "[encoded data removed]",
      "text/plain": [
       "<matplotlib.figure.Figure at 0x16ec603aba8>"
      ]
     },
     "metadata": {},
     "output_type": "display_data"
    }
   ],
   "source": [
    "ct.plot(kind=\"bar\",stacked=False)"
   ]
  },
  {
   "cell_type": "markdown",
   "metadata": {},
   "source": [
    "Term loan has more vulnerable approximately term loan given to 25% people among them 48% are defaulter which is 12 % of given data set . It seems Short term loan are more safe as it has 20% defaulter which is 26% of the given short term loan . It is provided that 32% among provided data set are defaulter"
   ]
  },
  {
   "cell_type": "code",
   "execution_count": 31,
   "metadata": {
    "collapsed": false
   },
   "outputs": [
    {
     "data": {
      "text/html": [
       "<div>\n",
       "<table border=\"1\" class=\"dataframe\">\n",
       "  <thead>\n",
       "    <tr style=\"text-align: right;\">\n",
       "      <th>loan_status</th>\n",
       "      <th>Charged Off</th>\n",
       "      <th>Fully Paid</th>\n",
       "    </tr>\n",
       "    <tr>\n",
       "      <th>purpose</th>\n",
       "      <th></th>\n",
       "      <th></th>\n",
       "    </tr>\n",
       "  </thead>\n",
       "  <tbody>\n",
       "    <tr>\n",
       "      <th>Business Loan</th>\n",
       "      <td>0.005</td>\n",
       "      <td>0.011</td>\n",
       "    </tr>\n",
       "    <tr>\n",
       "      <th>Buy House</th>\n",
       "      <td>0.001</td>\n",
       "      <td>0.005</td>\n",
       "    </tr>\n",
       "    <tr>\n",
       "      <th>Buy a Car</th>\n",
       "      <td>0.002</td>\n",
       "      <td>0.011</td>\n",
       "    </tr>\n",
       "    <tr>\n",
       "      <th>Debt Consolidation</th>\n",
       "      <td>0.179</td>\n",
       "      <td>0.606</td>\n",
       "    </tr>\n",
       "    <tr>\n",
       "      <th>Educational Expenses</th>\n",
       "      <td>0.000</td>\n",
       "      <td>0.001</td>\n",
       "    </tr>\n",
       "    <tr>\n",
       "      <th>Home Improvements</th>\n",
       "      <td>0.012</td>\n",
       "      <td>0.047</td>\n",
       "    </tr>\n",
       "    <tr>\n",
       "      <th>Medical Bills</th>\n",
       "      <td>0.003</td>\n",
       "      <td>0.009</td>\n",
       "    </tr>\n",
       "    <tr>\n",
       "      <th>Other</th>\n",
       "      <td>0.006</td>\n",
       "      <td>0.026</td>\n",
       "    </tr>\n",
       "    <tr>\n",
       "      <th>Take a Trip</th>\n",
       "      <td>0.001</td>\n",
       "      <td>0.004</td>\n",
       "    </tr>\n",
       "    <tr>\n",
       "      <th>major_purchase</th>\n",
       "      <td>0.001</td>\n",
       "      <td>0.003</td>\n",
       "    </tr>\n",
       "    <tr>\n",
       "      <th>moving</th>\n",
       "      <td>0.000</td>\n",
       "      <td>0.001</td>\n",
       "    </tr>\n",
       "    <tr>\n",
       "      <th>other</th>\n",
       "      <td>0.014</td>\n",
       "      <td>0.046</td>\n",
       "    </tr>\n",
       "    <tr>\n",
       "      <th>renewable_energy</th>\n",
       "      <td>0.000</td>\n",
       "      <td>0.000</td>\n",
       "    </tr>\n",
       "    <tr>\n",
       "      <th>small_business</th>\n",
       "      <td>0.001</td>\n",
       "      <td>0.002</td>\n",
       "    </tr>\n",
       "    <tr>\n",
       "      <th>vacation</th>\n",
       "      <td>0.000</td>\n",
       "      <td>0.001</td>\n",
       "    </tr>\n",
       "    <tr>\n",
       "      <th>wedding</th>\n",
       "      <td>0.000</td>\n",
       "      <td>0.001</td>\n",
       "    </tr>\n",
       "  </tbody>\n",
       "</table>\n",
       "</div>"
      ],
      "text/plain": [
       "loan_status           Charged Off  Fully Paid\n",
       "purpose                                      \n",
       "Business Loan               0.005       0.011\n",
       "Buy House                   0.001       0.005\n",
       "Buy a Car                   0.002       0.011\n",
       "Debt Consolidation          0.179       0.606\n",
       "Educational Expenses        0.000       0.001\n",
       "Home Improvements           0.012       0.047\n",
       "Medical Bills               0.003       0.009\n",
       "Other                       0.006       0.026\n",
       "Take a Trip                 0.001       0.004\n",
       "major_purchase              0.001       0.003\n",
       "moving                      0.000       0.001\n",
       "other                       0.014       0.046\n",
       "renewable_energy            0.000       0.000\n",
       "small_business              0.001       0.002\n",
       "vacation                    0.000       0.001\n",
       "wedding                     0.000       0.001"
      ]
     },
     "execution_count": 31,
     "metadata": {},
     "output_type": "execute_result"
    }
   ],
   "source": [
    "ct = pd.crosstab(index=loan_data[\"purpose\"], \n",
    "                          columns=loan_data[\"loan_status\"] ).apply(lambda x : calculate_amount(x ) , axis = 1)\n",
    "ct"
   ]
  },
  {
   "cell_type": "code",
   "execution_count": 32,
   "metadata": {
    "collapsed": false
   },
   "outputs": [
    {
     "data": {
      "text/plain": [
       "<matplotlib.axes._subplots.AxesSubplot at 0x16ec60e4be0>"
      ]
     },
     "execution_count": 32,
     "metadata": {},
     "output_type": "execute_result"
    },
    {
     "data": {
      "image/png": "[encoded data removed]",
      "text/plain": [
       "<matplotlib.figure.Figure at 0x16ec601c6a0>"
      ]
     },
     "metadata": {},
     "output_type": "display_data"
    }
   ],
   "source": [
    "ct.plot(kind=\"bar\",stacked=False)"
   ]
  },
  {
   "cell_type": "markdown",
   "metadata": {},
   "source": [
    "Apporximately 80% loans are used for debt consolidation and 25% are defaulter. Other loans are very nominal as home improvments amd misc. loans are in second and 3rd positions respectively.\n"
   ]
  },
  {
   "cell_type": "code",
   "execution_count": 33,
   "metadata": {
    "collapsed": false
   },
   "outputs": [
    {
     "data": {
      "text/html": [
       "<div>\n",
       "<table border=\"1\" class=\"dataframe\">\n",
       "  <thead>\n",
       "    <tr style=\"text-align: right;\">\n",
       "      <th>loan_status</th>\n",
       "      <th>Charged Off</th>\n",
       "      <th>Fully Paid</th>\n",
       "    </tr>\n",
       "    <tr>\n",
       "      <th>home_ownership</th>\n",
       "      <th></th>\n",
       "      <th></th>\n",
       "    </tr>\n",
       "  </thead>\n",
       "  <tbody>\n",
       "    <tr>\n",
       "      <th>HaveMortgage</th>\n",
       "      <td>0.000</td>\n",
       "      <td>0.002</td>\n",
       "    </tr>\n",
       "    <tr>\n",
       "      <th>Home Mortgage</th>\n",
       "      <td>0.099</td>\n",
       "      <td>0.385</td>\n",
       "    </tr>\n",
       "    <tr>\n",
       "      <th>Own Home</th>\n",
       "      <td>0.021</td>\n",
       "      <td>0.071</td>\n",
       "    </tr>\n",
       "    <tr>\n",
       "      <th>Rent</th>\n",
       "      <td>0.106</td>\n",
       "      <td>0.316</td>\n",
       "    </tr>\n",
       "  </tbody>\n",
       "</table>\n",
       "</div>"
      ],
      "text/plain": [
       "loan_status     Charged Off  Fully Paid\n",
       "home_ownership                         \n",
       "HaveMortgage          0.000       0.002\n",
       "Home Mortgage         0.099       0.385\n",
       "Own Home              0.021       0.071\n",
       "Rent                  0.106       0.316"
      ]
     },
     "execution_count": 33,
     "metadata": {},
     "output_type": "execute_result"
    }
   ],
   "source": [
    "ct = pd.crosstab(index=loan_data[\"home_ownership\"],columns=loan_data[\"loan_status\"] ).apply(lambda x : calculate_amount(x ) , axis = 1)\n",
    "ct"
   ]
  },
  {
   "cell_type": "code",
   "execution_count": 34,
   "metadata": {
    "collapsed": false
   },
   "outputs": [
    {
     "data": {
      "text/plain": [
       "<matplotlib.axes._subplots.AxesSubplot at 0x16ec6203cc0>"
      ]
     },
     "execution_count": 34,
     "metadata": {},
     "output_type": "execute_result"
    },
    {
     "data": {
      "image/png": "[encoded data removed]",
      "text/plain": [
       "<matplotlib.figure.Figure at 0x16ec6216dd8>"
      ]
     },
     "metadata": {},
     "output_type": "display_data"
    }
   ],
   "source": [
    "ct.plot(kind=\"bar\",stacked=False)"
   ]
  },
  {
   "cell_type": "markdown",
   "metadata": {},
   "source": [
    "Though most loans have been provided to them who has house mortgage, most defaulters are those who live in house with Rent. 15% are defaulter which  is more than 34 % of that loan which has been provided to people with rent house."
   ]
  },
  {
   "cell_type": "markdown",
   "metadata": {},
   "source": [
    "We could leave 'years_in_current_job' as categorical data, but it shouldn't be treated as such or as ordinal data since the intervals are easy to determine. We can convert it into numerical data with a simple filter"
   ]
  },
  {
   "cell_type": "code",
   "execution_count": 35,
   "metadata": {
    "collapsed": false
   },
   "outputs": [
    {
     "data": {
      "text/html": [
       "<div>\n",
       "<table border=\"1\" class=\"dataframe\">\n",
       "  <thead>\n",
       "    <tr style=\"text-align: right;\">\n",
       "      <th>loan_status</th>\n",
       "      <th>Charged Off</th>\n",
       "      <th>Fully Paid</th>\n",
       "    </tr>\n",
       "    <tr>\n",
       "      <th>years_in_current_job</th>\n",
       "      <th></th>\n",
       "      <th></th>\n",
       "    </tr>\n",
       "  </thead>\n",
       "  <tbody>\n",
       "    <tr>\n",
       "      <th>1 year</th>\n",
       "      <td>1.500</td>\n",
       "      <td>4.957</td>\n",
       "    </tr>\n",
       "    <tr>\n",
       "      <th>10+ years</th>\n",
       "      <td>6.700</td>\n",
       "      <td>24.397</td>\n",
       "    </tr>\n",
       "    <tr>\n",
       "      <th>2 years</th>\n",
       "      <td>1.998</td>\n",
       "      <td>7.144</td>\n",
       "    </tr>\n",
       "    <tr>\n",
       "      <th>3 years</th>\n",
       "      <td>1.769</td>\n",
       "      <td>6.451</td>\n",
       "    </tr>\n",
       "    <tr>\n",
       "      <th>4 years</th>\n",
       "      <td>1.393</td>\n",
       "      <td>4.752</td>\n",
       "    </tr>\n",
       "    <tr>\n",
       "      <th>5 years</th>\n",
       "      <td>1.535</td>\n",
       "      <td>5.268</td>\n",
       "    </tr>\n",
       "    <tr>\n",
       "      <th>6 years</th>\n",
       "      <td>1.319</td>\n",
       "      <td>4.361</td>\n",
       "    </tr>\n",
       "    <tr>\n",
       "      <th>7 years</th>\n",
       "      <td>1.292</td>\n",
       "      <td>4.276</td>\n",
       "    </tr>\n",
       "    <tr>\n",
       "      <th>8 years</th>\n",
       "      <td>1.060</td>\n",
       "      <td>3.534</td>\n",
       "    </tr>\n",
       "    <tr>\n",
       "      <th>9 years</th>\n",
       "      <td>0.931</td>\n",
       "      <td>2.988</td>\n",
       "    </tr>\n",
       "    <tr>\n",
       "      <th>&lt; 1 year</th>\n",
       "      <td>1.892</td>\n",
       "      <td>6.258</td>\n",
       "    </tr>\n",
       "    <tr>\n",
       "      <th>n/a</th>\n",
       "      <td>1.267</td>\n",
       "      <td>2.957</td>\n",
       "    </tr>\n",
       "  </tbody>\n",
       "</table>\n",
       "</div>"
      ],
      "text/plain": [
       "loan_status           Charged Off  Fully Paid\n",
       "years_in_current_job                         \n",
       "1 year                      1.500       4.957\n",
       "10+ years                   6.700      24.397\n",
       "2 years                     1.998       7.144\n",
       "3 years                     1.769       6.451\n",
       "4 years                     1.393       4.752\n",
       "5 years                     1.535       5.268\n",
       "6 years                     1.319       4.361\n",
       "7 years                     1.292       4.276\n",
       "8 years                     1.060       3.534\n",
       "9 years                     0.931       2.988\n",
       "< 1 year                    1.892       6.258\n",
       "n/a                         1.267       2.957"
      ]
     },
     "execution_count": 35,
     "metadata": {},
     "output_type": "execute_result"
    }
   ],
   "source": [
    "ct = pd.crosstab(index=loan_data[\"years_in_current_job\"], \n",
    "                          columns=loan_data[\"loan_status\"]  ).apply(lambda x : calculate_amount(x *100) , axis = 1)\n",
    "ct"
   ]
  },
  {
   "cell_type": "code",
   "execution_count": 36,
   "metadata": {
    "collapsed": false
   },
   "outputs": [
    {
     "data": {
      "text/plain": [
       "<matplotlib.axes._subplots.AxesSubplot at 0x16ec62aacf8>"
      ]
     },
     "execution_count": 36,
     "metadata": {},
     "output_type": "execute_result"
    },
    {
     "data": {
      "image/png": "[encoded data removed]",
      "text/plain": [
       "<matplotlib.figure.Figure at 0x16ec62ba160>"
      ]
     },
     "metadata": {},
     "output_type": "display_data"
    }
   ],
   "source": [
    "ct.plot(kind=\"bar\",stacked=False)"
   ]
  },
  {
   "cell_type": "markdown",
   "metadata": {},
   "source": [
    "From the Above graph it is found that most of the loans given to the employee who have more than 10+ years experience . Since It is a numerica variables we will convert it to numeric values ."
   ]
  },
  {
   "cell_type": "markdown",
   "metadata": {},
   "source": [
    "#### Encoding categorical features :\n",
    "We have 4 Categorical features .Purpose , Term , home_ownership ,years_in_current_job . We will convert them into distinct features using one hot encoding method and later we will drop the parent column.Before drop this let us understand what is the impact of this features into the data ."
   ]
  },
  {
   "cell_type": "code",
   "execution_count": 37,
   "metadata": {
    "collapsed": false
   },
   "outputs": [
    {
     "name": "stdout",
     "output_type": "stream",
     "text": [
      "<class 'pandas.core.frame.DataFrame'>\n",
      "RangeIndex: 111107 entries, 0 to 111106\n",
      "Data columns (total 46 columns):\n",
      "current_loan_amount             111107 non-null int64\n",
      "credit_score                    89769 non-null float64\n",
      "annual_income                   89769 non-null float64\n",
      "monthly_debt                    111107 non-null object\n",
      "years_of_credit_history         111107 non-null float64\n",
      "months_since_last_delinquent    52104 non-null float64\n",
      "number_of_open_accounts         111107 non-null int64\n",
      "number_of_credit_problems       111107 non-null int64\n",
      "current_credit_balance          111107 non-null int64\n",
      "maximum_open_credit             111107 non-null object\n",
      "bankruptcies                    110879 non-null float64\n",
      "tax_liens                       111096 non-null float64\n",
      "flag                            111107 non-null int64\n",
      "long_term                       111107 non-null float64\n",
      "short_term                      111107 non-null float64\n",
      "havemortgage                    111107 non-null float64\n",
      "home_mortgage                   111107 non-null float64\n",
      "own_home                        111107 non-null float64\n",
      "rent                            111107 non-null float64\n",
      "business_loan                   111107 non-null float64\n",
      "buy_a_car                       111107 non-null float64\n",
      "buy_house                       111107 non-null float64\n",
      "debt_consolidation              111107 non-null float64\n",
      "educational_expenses            111107 non-null float64\n",
      "home_improvements               111107 non-null float64\n",
      "major_purchase                  111107 non-null float64\n",
      "medical_bills                   111107 non-null float64\n",
      "moving                          111107 non-null float64\n",
      "other                           111107 non-null float64\n",
      "renewable_energy                111107 non-null float64\n",
      "small_business                  111107 non-null float64\n",
      "take_a_trip                     111107 non-null float64\n",
      "vacation                        111107 non-null float64\n",
      "wedding                         111107 non-null float64\n",
      "10+_years                       111107 non-null float64\n",
      "1_year                          111107 non-null float64\n",
      "2_years                         111107 non-null float64\n",
      "3_years                         111107 non-null float64\n",
      "4_years                         111107 non-null float64\n",
      "5_years                         111107 non-null float64\n",
      "6_years                         111107 non-null float64\n",
      "7_years                         111107 non-null float64\n",
      "8_years                         111107 non-null float64\n",
      "9_years                         111107 non-null float64\n",
      "<_1_year                        111107 non-null float64\n",
      "n/a                             111107 non-null float64\n",
      "dtypes: float64(39), int64(5), object(2)\n",
      "memory usage: 39.0+ MB\n",
      "None\n"
     ]
    }
   ],
   "source": [
    "def one_hot_encoding(df, colname ) :\n",
    "    df[colname] =  df[colname].str.lower()\n",
    "    df[colname] =  df[colname].str.replace(\" \" ,\"_\")\n",
    "    df = pd.concat([df, pd.get_dummies(df[colname]).rename(columns=lambda x: str(x))], axis=1) \n",
    "    df.drop(colname,axis =1 , inplace=True)\n",
    "    return df\n",
    "\n",
    "loan_data = one_hot_encoding(loan_data, 'term' ) ;\n",
    "loan_data = one_hot_encoding(loan_data, 'home_ownership' ) ;\n",
    "loan_data = one_hot_encoding(loan_data, 'purpose' ) ;\n",
    "loan_data = one_hot_encoding(loan_data, 'years_in_current_job' ) ;\n",
    "\n",
    "del loan_data[\"loan_status\"]\n",
    "\n",
    "print (loan_data.info())"
   ]
  },
  {
   "cell_type": "code",
   "execution_count": 38,
   "metadata": {
    "collapsed": false
   },
   "outputs": [],
   "source": [
    "#s_purpose[s_purpose==('other')]\n",
    "# print (fn_conver_string(s_purpose,'other'))\n",
    "# s_purpose=pd.Series(data=loan_data['purpose'].unique())\n",
    "#s_purpose=pd.Series(data=loan_data['purpose'].unique())\n",
    "#def fn_conver_string(p_value):\n",
    "#    return s_purpose[s_purpose==p_value].index[0]"
   ]
  },
  {
   "cell_type": "code",
   "execution_count": 39,
   "metadata": {
    "collapsed": false
   },
   "outputs": [
    {
     "data": {
      "text/html": [
       "<div>\n",
       "<table border=\"1\" class=\"dataframe\">\n",
       "  <thead>\n",
       "    <tr style=\"text-align: right;\">\n",
       "      <th></th>\n",
       "      <th>current_loan_amount</th>\n",
       "      <th>credit_score</th>\n",
       "      <th>annual_income</th>\n",
       "      <th>monthly_debt</th>\n",
       "      <th>years_of_credit_history</th>\n",
       "      <th>months_since_last_delinquent</th>\n",
       "      <th>number_of_open_accounts</th>\n",
       "      <th>number_of_credit_problems</th>\n",
       "      <th>current_credit_balance</th>\n",
       "      <th>maximum_open_credit</th>\n",
       "      <th>...</th>\n",
       "      <th>2_years</th>\n",
       "      <th>3_years</th>\n",
       "      <th>4_years</th>\n",
       "      <th>5_years</th>\n",
       "      <th>6_years</th>\n",
       "      <th>7_years</th>\n",
       "      <th>8_years</th>\n",
       "      <th>9_years</th>\n",
       "      <th>&lt;_1_year</th>\n",
       "      <th>n/a</th>\n",
       "    </tr>\n",
       "  </thead>\n",
       "  <tbody>\n",
       "    <tr>\n",
       "      <th>0</th>\n",
       "      <td>12232</td>\n",
       "      <td>7,280.000</td>\n",
       "      <td>46,643.000</td>\n",
       "      <td>777.39</td>\n",
       "      <td>18.000</td>\n",
       "      <td>10.000</td>\n",
       "      <td>12</td>\n",
       "      <td>0</td>\n",
       "      <td>6762</td>\n",
       "      <td>7946</td>\n",
       "      <td>...</td>\n",
       "      <td>0.000</td>\n",
       "      <td>0.000</td>\n",
       "      <td>0.000</td>\n",
       "      <td>0.000</td>\n",
       "      <td>0.000</td>\n",
       "      <td>0.000</td>\n",
       "      <td>0.000</td>\n",
       "      <td>0.000</td>\n",
       "      <td>1.000</td>\n",
       "      <td>0.000</td>\n",
       "    </tr>\n",
       "    <tr>\n",
       "      <th>1</th>\n",
       "      <td>25014</td>\n",
       "      <td>7,330.000</td>\n",
       "      <td>81,099.000</td>\n",
       "      <td>892.09</td>\n",
       "      <td>26.700</td>\n",
       "      <td>nan</td>\n",
       "      <td>14</td>\n",
       "      <td>0</td>\n",
       "      <td>35706</td>\n",
       "      <td>77961</td>\n",
       "      <td>...</td>\n",
       "      <td>0.000</td>\n",
       "      <td>0.000</td>\n",
       "      <td>0.000</td>\n",
       "      <td>0.000</td>\n",
       "      <td>0.000</td>\n",
       "      <td>0.000</td>\n",
       "      <td>0.000</td>\n",
       "      <td>0.000</td>\n",
       "      <td>0.000</td>\n",
       "      <td>0.000</td>\n",
       "    </tr>\n",
       "    <tr>\n",
       "      <th>2</th>\n",
       "      <td>16117</td>\n",
       "      <td>7,240.000</td>\n",
       "      <td>60,438.000</td>\n",
       "      <td>1244.02</td>\n",
       "      <td>16.700</td>\n",
       "      <td>32.000</td>\n",
       "      <td>11</td>\n",
       "      <td>1</td>\n",
       "      <td>11275</td>\n",
       "      <td>14815</td>\n",
       "      <td>...</td>\n",
       "      <td>0.000</td>\n",
       "      <td>0.000</td>\n",
       "      <td>0.000</td>\n",
       "      <td>0.000</td>\n",
       "      <td>0.000</td>\n",
       "      <td>0.000</td>\n",
       "      <td>0.000</td>\n",
       "      <td>1.000</td>\n",
       "      <td>0.000</td>\n",
       "      <td>0.000</td>\n",
       "    </tr>\n",
       "    <tr>\n",
       "      <th>3</th>\n",
       "      <td>11716</td>\n",
       "      <td>7,400.000</td>\n",
       "      <td>34,171.000</td>\n",
       "      <td>990.94</td>\n",
       "      <td>10.000</td>\n",
       "      <td>nan</td>\n",
       "      <td>21</td>\n",
       "      <td>0</td>\n",
       "      <td>7009</td>\n",
       "      <td>43533</td>\n",
       "      <td>...</td>\n",
       "      <td>0.000</td>\n",
       "      <td>1.000</td>\n",
       "      <td>0.000</td>\n",
       "      <td>0.000</td>\n",
       "      <td>0.000</td>\n",
       "      <td>0.000</td>\n",
       "      <td>0.000</td>\n",
       "      <td>0.000</td>\n",
       "      <td>0.000</td>\n",
       "      <td>0.000</td>\n",
       "    </tr>\n",
       "    <tr>\n",
       "      <th>4</th>\n",
       "      <td>9789</td>\n",
       "      <td>6,860.000</td>\n",
       "      <td>47,003.000</td>\n",
       "      <td>503.71</td>\n",
       "      <td>16.700</td>\n",
       "      <td>25.000</td>\n",
       "      <td>13</td>\n",
       "      <td>1</td>\n",
       "      <td>16913</td>\n",
       "      <td>19553</td>\n",
       "      <td>...</td>\n",
       "      <td>0.000</td>\n",
       "      <td>0.000</td>\n",
       "      <td>0.000</td>\n",
       "      <td>0.000</td>\n",
       "      <td>0.000</td>\n",
       "      <td>0.000</td>\n",
       "      <td>0.000</td>\n",
       "      <td>0.000</td>\n",
       "      <td>0.000</td>\n",
       "      <td>0.000</td>\n",
       "    </tr>\n",
       "  </tbody>\n",
       "</table>\n",
       "<p>5 rows × 46 columns</p>\n",
       "</div>"
      ],
      "text/plain": [
       "   current_loan_amount  credit_score  annual_income monthly_debt  \\\n",
       "0                12232     7,280.000     46,643.000       777.39   \n",
       "1                25014     7,330.000     81,099.000       892.09   \n",
       "2                16117     7,240.000     60,438.000      1244.02   \n",
       "3                11716     7,400.000     34,171.000       990.94   \n",
       "4                 9789     6,860.000     47,003.000       503.71   \n",
       "\n",
       "   years_of_credit_history  months_since_last_delinquent  \\\n",
       "0                   18.000                        10.000   \n",
       "1                   26.700                           nan   \n",
       "2                   16.700                        32.000   \n",
       "3                   10.000                           nan   \n",
       "4                   16.700                        25.000   \n",
       "\n",
       "   number_of_open_accounts  number_of_credit_problems  current_credit_balance  \\\n",
       "0                       12                          0                    6762   \n",
       "1                       14                          0                   35706   \n",
       "2                       11                          1                   11275   \n",
       "3                       21                          0                    7009   \n",
       "4                       13                          1                   16913   \n",
       "\n",
       "  maximum_open_credit  ...   2_years  3_years  4_years  5_years  6_years  \\\n",
       "0                7946  ...     0.000    0.000    0.000    0.000    0.000   \n",
       "1               77961  ...     0.000    0.000    0.000    0.000    0.000   \n",
       "2               14815  ...     0.000    0.000    0.000    0.000    0.000   \n",
       "3               43533  ...     0.000    1.000    0.000    0.000    0.000   \n",
       "4               19553  ...     0.000    0.000    0.000    0.000    0.000   \n",
       "\n",
       "   7_years  8_years  9_years  <_1_year   n/a  \n",
       "0    0.000    0.000    0.000     1.000 0.000  \n",
       "1    0.000    0.000    0.000     0.000 0.000  \n",
       "2    0.000    0.000    1.000     0.000 0.000  \n",
       "3    0.000    0.000    0.000     0.000 0.000  \n",
       "4    0.000    0.000    0.000     0.000 0.000  \n",
       "\n",
       "[5 rows x 46 columns]"
      ]
     },
     "execution_count": 39,
     "metadata": {},
     "output_type": "execute_result"
    }
   ],
   "source": [
    "loan_data.head(5)"
   ]
  },
  {
   "cell_type": "markdown",
   "metadata": {},
   "source": [
    "#### Exploring Continuous Data :\n",
    "Discrete data are, again, data with a finite or countably infinite number of possible outcomes. Continuous data, on the other hand, are data which come from an interval of possible outcomes. In our Dataset examples of continuous variables to include :\n",
    "   - Current loan amount           \n",
    "   - Credit score                  \n",
    "   - Years in current job          \n",
    "   - Annual income                 \n",
    "   - Monthly debt                  \n",
    "   - Years of credit history       \n",
    "   - Months since last delinquent  \n",
    "   - Number of open accounts       \n",
    "   - Number of credit problems     \n",
    "   - Current credit balance        \n",
    "   - Maximum open credit      \n",
    "   \n",
    "In each of these examples, the resulting measurement comes from an interval of possible outcomes. and the measurement tool is often the restricting factor with continuous data. We'll summarize the data graphically using histograms, Kernel Density estimator, plots, and box plots. Here, we'll investigate how to summarize continuous data numerically using order statistics and various functions of order statistics."
   ]
  },
  {
   "cell_type": "markdown",
   "metadata": {},
   "source": [
    "#### Imputing missing values :\n",
    "Data sets are often littered with missing data, extreme data points called outliers and other strange values. Missing values, outliers, and strange values can negatively affect statistical tests and models and may even cause certain functions to fail.\n",
    "\n",
    "Detecting missing values is the easy part: it is far more difficult to decide how to handle them. In cases where we have a lot of data and only a few missing values, it might make sense to simply delete records with missing values present. On the other hand, if we have more than a handful of missing values, removing records with missing values could cause to get rid of a lot of data. Missing values in categorical data are not particularly troubling because we can simply treat NA as an additional category. Missing values in numeric variables are more troublesome since we can't just treat a missing value as a number. \n",
    "\n",
    "Here are a few ways we could deal with them:\n",
    "\n",
    "1. Replace the null values with 0s\n",
    "2. Replace the null values with some central value like the mean or median\n",
    "3. Impute values (estimate values using statistical/predictive modeling methods).\n",
    "\n",
    "We can use seaborn to create a simple heatmap to see where we are missing data!\n"
   ]
  },
  {
   "cell_type": "code",
   "execution_count": 40,
   "metadata": {
    "collapsed": false,
    "scrolled": true
   },
   "outputs": [
    {
     "data": {
      "text/plain": [
       "<matplotlib.axes._subplots.AxesSubplot at 0x16ec6c1f6d8>"
      ]
     },
     "execution_count": 40,
     "metadata": {},
     "output_type": "execute_result"
    },
    {
     "data": {
      "image/png": "[encoded data removed]",
      "text/plain": [
       "<matplotlib.figure.Figure at 0x16eca845898>"
      ]
     },
     "metadata": {},
     "output_type": "display_data"
    }
   ],
   "source": [
    "plt.figure(figsize=(12, 7))\n",
    "sns.heatmap(loan_data.isnull(),yticklabels=False,cbar=False,cmap='viridis')"
   ]
  },
  {
   "cell_type": "code",
   "execution_count": 41,
   "metadata": {
    "collapsed": false
   },
   "outputs": [
    {
     "name": "stdout",
     "output_type": "stream",
     "text": [
      "<class 'pandas.core.frame.DataFrame'>\n",
      "RangeIndex: 111107 entries, 0 to 111106\n",
      "Data columns (total 46 columns):\n",
      "current_loan_amount             111107 non-null int64\n",
      "credit_score                    89769 non-null float64\n",
      "annual_income                   89769 non-null float64\n",
      "monthly_debt                    111107 non-null object\n",
      "years_of_credit_history         111107 non-null float64\n",
      "months_since_last_delinquent    52104 non-null float64\n",
      "number_of_open_accounts         111107 non-null int64\n",
      "number_of_credit_problems       111107 non-null int64\n",
      "current_credit_balance          111107 non-null int64\n",
      "maximum_open_credit             111107 non-null object\n",
      "bankruptcies                    110879 non-null float64\n",
      "tax_liens                       111096 non-null float64\n",
      "defaulter_or_not                111107 non-null int64\n",
      "long_term                       111107 non-null float64\n",
      "short_term                      111107 non-null float64\n",
      "havemortgage                    111107 non-null float64\n",
      "home_mortgage                   111107 non-null float64\n",
      "own_home                        111107 non-null float64\n",
      "rent                            111107 non-null float64\n",
      "business_loan                   111107 non-null float64\n",
      "buy_a_car                       111107 non-null float64\n",
      "buy_house                       111107 non-null float64\n",
      "debt_consolidation              111107 non-null float64\n",
      "educational_expenses            111107 non-null float64\n",
      "home_improvements               111107 non-null float64\n",
      "major_purchase                  111107 non-null float64\n",
      "medical_bills                   111107 non-null float64\n",
      "moving                          111107 non-null float64\n",
      "other                           111107 non-null float64\n",
      "renewable_energy                111107 non-null float64\n",
      "small_business                  111107 non-null float64\n",
      "take_a_trip                     111107 non-null float64\n",
      "vacation                        111107 non-null float64\n",
      "wedding                         111107 non-null float64\n",
      "10+_years                       111107 non-null float64\n",
      "1_year                          111107 non-null float64\n",
      "2_years                         111107 non-null float64\n",
      "3_years                         111107 non-null float64\n",
      "4_years                         111107 non-null float64\n",
      "5_years                         111107 non-null float64\n",
      "6_years                         111107 non-null float64\n",
      "7_years                         111107 non-null float64\n",
      "8_years                         111107 non-null float64\n",
      "9_years                         111107 non-null float64\n",
      "<_1_year                        111107 non-null float64\n",
      "n/a                             111107 non-null float64\n",
      "dtypes: float64(39), int64(5), object(2)\n",
      "memory usage: 39.0+ MB\n"
     ]
    }
   ],
   "source": [
    "loan_data =loan_data.rename(columns = {'flag' :'defaulter_or_not'})\n",
    "loan_data.info()"
   ]
  },
  {
   "cell_type": "markdown",
   "metadata": {},
   "source": [
    "It's seem that there are two object type variable exist, it is requird to conver this into int/float type."
   ]
  },
  {
   "cell_type": "code",
   "execution_count": 42,
   "metadata": {
    "collapsed": false
   },
   "outputs": [],
   "source": [
    "loan_data['monthly_debt'] =  loan_data['monthly_debt'].str.replace(\"$\" ,\" \").astype(float)\n",
    "loan_data[\"maximum_open_credit\"] = loan_data.maximum_open_credit.convert_objects(convert_numeric=True)"
   ]
  },
  {
   "cell_type": "code",
   "execution_count": 43,
   "metadata": {
    "collapsed": false
   },
   "outputs": [
    {
     "name": "stdout",
     "output_type": "stream",
     "text": [
      "<class 'pandas.core.frame.DataFrame'>\n",
      "RangeIndex: 111107 entries, 0 to 111106\n",
      "Data columns (total 46 columns):\n",
      "current_loan_amount             111107 non-null int64\n",
      "credit_score                    89769 non-null float64\n",
      "annual_income                   89769 non-null float64\n",
      "monthly_debt                    65536 non-null float64\n",
      "years_of_credit_history         111107 non-null float64\n",
      "months_since_last_delinquent    52104 non-null float64\n",
      "number_of_open_accounts         111107 non-null int64\n",
      "number_of_credit_problems       111107 non-null int64\n",
      "current_credit_balance          111107 non-null int64\n",
      "maximum_open_credit             111105 non-null float64\n",
      "bankruptcies                    110879 non-null float64\n",
      "tax_liens                       111096 non-null float64\n",
      "defaulter_or_not                111107 non-null int64\n",
      "long_term                       111107 non-null float64\n",
      "short_term                      111107 non-null float64\n",
      "havemortgage                    111107 non-null float64\n",
      "home_mortgage                   111107 non-null float64\n",
      "own_home                        111107 non-null float64\n",
      "rent                            111107 non-null float64\n",
      "business_loan                   111107 non-null float64\n",
      "buy_a_car                       111107 non-null float64\n",
      "buy_house                       111107 non-null float64\n",
      "debt_consolidation              111107 non-null float64\n",
      "educational_expenses            111107 non-null float64\n",
      "home_improvements               111107 non-null float64\n",
      "major_purchase                  111107 non-null float64\n",
      "medical_bills                   111107 non-null float64\n",
      "moving                          111107 non-null float64\n",
      "other                           111107 non-null float64\n",
      "renewable_energy                111107 non-null float64\n",
      "small_business                  111107 non-null float64\n",
      "take_a_trip                     111107 non-null float64\n",
      "vacation                        111107 non-null float64\n",
      "wedding                         111107 non-null float64\n",
      "10+_years                       111107 non-null float64\n",
      "1_year                          111107 non-null float64\n",
      "2_years                         111107 non-null float64\n",
      "3_years                         111107 non-null float64\n",
      "4_years                         111107 non-null float64\n",
      "5_years                         111107 non-null float64\n",
      "6_years                         111107 non-null float64\n",
      "7_years                         111107 non-null float64\n",
      "8_years                         111107 non-null float64\n",
      "9_years                         111107 non-null float64\n",
      "<_1_year                        111107 non-null float64\n",
      "n/a                             111107 non-null float64\n",
      "dtypes: float64(41), int64(5)\n",
      "memory usage: 39.0 MB\n"
     ]
    }
   ],
   "source": [
    "loan_data.info()"
   ]
  },
  {
   "cell_type": "code",
   "execution_count": 44,
   "metadata": {
    "collapsed": false
   },
   "outputs": [
    {
     "name": "stdout",
     "output_type": "stream",
     "text": [
      "Score with the entire dataset = 0.56\n",
      "Score without the samples containing missing values = 0.60\n",
      "Score after imputation of the missing values = 0.58\n"
     ]
    }
   ],
   "source": [
    "features = list(loan_data.columns)\n",
    "features.remove('defaulter_or_not');\n",
    "\n",
    "target =  'defaulter_or_not'\n",
    "target =  'defaulter_or_not'\n",
    "\n",
    "\n",
    "X1 =  loan_data.fillna(0)[list(features)].values\n",
    "y1 = loan_data[target].values\n",
    "\n",
    "\n",
    "rng = np.random.RandomState(0)\n",
    "\n",
    "n_samples = len(X1)\n",
    "n_features = len(features)\n",
    "\n",
    "\n",
    "# Estimate the score on the entire dataset, with no missing values\n",
    "\n",
    "estimator = DecisionTreeClassifier(random_state=0 , max_depth=6 ,max_leaf_nodes = 20 ,criterion =  \"entropy\" )   \n",
    "score = cross_val_score(estimator, X1, y1).mean()\n",
    "print(\"Score with the entire dataset = %.2f\" % score)\n",
    "\n",
    "\n",
    "# Add missing values in 75% of the lines\n",
    "missing_rate = 0.75\n",
    "n_missing_samples = np.floor(n_samples * missing_rate)\n",
    "missing_samples = np.hstack((np.zeros(n_samples - n_missing_samples,\n",
    "                                      dtype=np.bool),\n",
    "                             np.ones(n_missing_samples,\n",
    "                                     dtype=np.bool)))\n",
    "rng.shuffle(missing_samples)\n",
    "missing_features = rng.randint(0, n_features, n_missing_samples)\n",
    "\n",
    "# Estimate the score without the lines containing missing values\n",
    "X_filtered = X1[~missing_samples, :]\n",
    "y_filtered = y1[~missing_samples]\n",
    "estimator = DecisionTreeClassifier(random_state=0 , max_depth=6 ,max_leaf_nodes = 20 ,criterion =  \"entropy\" )   \n",
    "score = cross_val_score(estimator, X_filtered, y_filtered).mean()\n",
    "print(\"Score without the samples containing missing values = %.2f\" % score)\n",
    "\n",
    "# Estimate the score after imputation of the missing values\n",
    "X_missing = X1.copy()\n",
    "X_missing[np.where(missing_samples)[0], missing_features] = 0\n",
    "y_missing = y1.copy()\n",
    "estimator = Pipeline([(\"imputer\", Imputer(missing_values=0,\n",
    "                                          strategy=\"mean\",\n",
    "                                          axis=0)),\n",
    "                      (\"forest\", DecisionTreeClassifier(random_state=0 , \\\n",
    "                                                        max_depth=6 ,max_leaf_nodes = 20 ,criterion =  \"entropy\" )   )])\n",
    "score = cross_val_score(estimator, X_missing, y_missing).mean()\n",
    "print(\"Score after imputation of the missing values = %.2f\" % score)"
   ]
  },
  {
   "cell_type": "markdown",
   "metadata": {
    "collapsed": false
   },
   "source": [
    "From the above , we can say that if we repalce all of our data with mean then that will have minimum impact on accuracy level . So learning algorithm, we will replace our missing values with mean values."
   ]
  },
  {
   "cell_type": "code",
   "execution_count": 45,
   "metadata": {
    "collapsed": false
   },
   "outputs": [
    {
     "data": {
      "text/plain": [
       "current_loan_amount             0\n",
       "credit_score                    0\n",
       "annual_income                   0\n",
       "monthly_debt                    0\n",
       "years_of_credit_history         0\n",
       "months_since_last_delinquent    0\n",
       "number_of_open_accounts         0\n",
       "number_of_credit_problems       0\n",
       "current_credit_balance          0\n",
       "maximum_open_credit             0\n",
       "bankruptcies                    0\n",
       "tax_liens                       0\n",
       "defaulter_or_not                0\n",
       "long_term                       0\n",
       "short_term                      0\n",
       "havemortgage                    0\n",
       "home_mortgage                   0\n",
       "own_home                        0\n",
       "rent                            0\n",
       "business_loan                   0\n",
       "buy_a_car                       0\n",
       "buy_house                       0\n",
       "debt_consolidation              0\n",
       "educational_expenses            0\n",
       "home_improvements               0\n",
       "major_purchase                  0\n",
       "medical_bills                   0\n",
       "moving                          0\n",
       "other                           0\n",
       "renewable_energy                0\n",
       "small_business                  0\n",
       "take_a_trip                     0\n",
       "vacation                        0\n",
       "wedding                         0\n",
       "10+_years                       0\n",
       "1_year                          0\n",
       "2_years                         0\n",
       "3_years                         0\n",
       "4_years                         0\n",
       "5_years                         0\n",
       "6_years                         0\n",
       "7_years                         0\n",
       "8_years                         0\n",
       "9_years                         0\n",
       "<_1_year                        0\n",
       "n/a                             0\n",
       "dtype: int64"
      ]
     },
     "execution_count": 45,
     "metadata": {},
     "output_type": "execute_result"
    }
   ],
   "source": [
    "\n",
    "loan_data['annual_income'].fillna((loan_data['annual_income'].mean()), inplace=True)\n",
    "loan_data['months_since_last_delinquent'].fillna((loan_data['months_since_last_delinquent'].mean()), inplace=True)\n",
    "loan_data['credit_score'].fillna((loan_data['credit_score'].mean()), inplace=True)\n",
    "loan_data['bankruptcies'].fillna((loan_data['bankruptcies'].mean()), inplace=True)\n",
    "loan_data['tax_liens'].fillna((loan_data['tax_liens'].mean()), inplace=True)\n",
    "loan_data['maximum_open_credit'].fillna((loan_data['tax_liens'].mean()), inplace=True)\n",
    "loan_data['monthly_debt'].fillna((loan_data['monthly_debt'].mean()), inplace=True)\n",
    "\n",
    "\n",
    "loan_data.isnull().sum()"
   ]
  },
  {
   "cell_type": "code",
   "execution_count": 46,
   "metadata": {
    "collapsed": false
   },
   "outputs": [
    {
     "data": {
      "text/plain": [
       "<matplotlib.axes._subplots.AxesSubplot at 0x16ec6b89f28>"
      ]
     },
     "execution_count": 46,
     "metadata": {},
     "output_type": "execute_result"
    },
    {
     "data": {
      "image/png": "[encoded data removed]",
      "text/plain": [
       "<matplotlib.figure.Figure at 0x16eca9cde48>"
      ]
     },
     "metadata": {},
     "output_type": "display_data"
    }
   ],
   "source": [
    "plt.figure(figsize=(12, 7))\n",
    "sns.heatmap(loan_data.isnull(),yticklabels=False,cbar=False,cmap='viridis')"
   ]
  },
  {
   "cell_type": "markdown",
   "metadata": {},
   "source": [
    "#### Correlation Coefficient :\n",
    "\n",
    "Before building a model and evaluating it’s results, we need to examine the correlations between the variables in the data set. The goal is to identify those variables which have a strong linear relationship and is done by developing a correlation matrix which takes each continuous variable and finds the correlation coefficient for every pairing in the data set. The correlation coefficient is calculated using Pearson or Spearman measurements, with the values ranging from -1 (negative correlation) to 1 (positive correlation). "
   ]
  },
  {
   "cell_type": "code",
   "execution_count": 47,
   "metadata": {
    "collapsed": false
   },
   "outputs": [
    {
     "data": {
      "text/plain": [
       "<matplotlib.axes._subplots.AxesSubplot at 0x16ecc8b0be0>"
      ]
     },
     "execution_count": 47,
     "metadata": {},
     "output_type": "execute_result"
    },
    {
     "data": {
      "image/png": "[encoded data removed]",
      "text/plain": [
       "<matplotlib.figure.Figure at 0x16ecb570048>"
      ]
     },
     "metadata": {},
     "output_type": "display_data"
    }
   ],
   "source": [
    "plt.figure(figsize=(10, 6))\n",
    "sns.heatmap(loan_data.corr())"
   ]
  },
  {
   "cell_type": "markdown",
   "metadata": {},
   "source": [
    "## Apply Machine Learning Model to Data Set :\n",
    "To predict the class of the loan we will use a supervised model for classification. Our goal is to predict class level which is a choice of the predefined list of possibilities and make accurate predictions for new, never-before-seen data. "
   ]
  },
  {
   "cell_type": "code",
   "execution_count": 48,
   "metadata": {
    "collapsed": false
   },
   "outputs": [],
   "source": [
    "from sklearn.cross_validation import train_test_split"
   ]
  },
  {
   "cell_type": "markdown",
   "metadata": {
    "collapsed": false
   },
   "source": [
    "\n",
    "### Building a Logistic Regression Model :\n",
    "\n",
    "Logistic regression is inherited from the field of statistics. It is used in the binary classification problem in where the problem is divided into two classes. Logistic regression used an equation are very much like the linear regression in where input values (x) are combined linearly using weights or coefficient values to predict an output value (y).\n",
    "\n",
    "   \\begin{equation*}\n",
    "    y = \\frac { e ^ {B0+B1\\times x}} {1+e ^ {B0+B1\\times x}}\n",
    "   \\end{equation*}\n",
    "\n",
    "Finaly after getting the result (y) it divideds the result into two class, 0 or 1. If y>0.5 then 1 otherwise 0.\n",
    "\n",
    "##### The things need to consider at the time of data preperation : \n",
    "\n",
    "* Remove Noise: Logistic regression assumes no error in the output variable (y), consider removing outliers and possibly misclassified instances from your training data.\n",
    "\n",
    "* Remove Correlated Inputs: Like linear regression, the model can overfit if you have multiple highly-correlated inputs. Consider calculating the pairwise correlations between all inputs and removing highly correlated inputs.\n",
    "\n",
    "* Fail to Converge: It is possible for the expected likelihood estimation process that learns the coefficients to fail to converge. This can happen if there are many highly correlated inputs in your data or the data is very sparse (e.g. lots of zeros in your input data).\n",
    "\n",
    "Now we will start machine learning part by the splitting our data into a training set and test set. In here we are using 40% data from our testing set and 60% for training set.\n"
   ]
  },
  {
   "cell_type": "code",
   "execution_count": 49,
   "metadata": {
    "collapsed": false
   },
   "outputs": [
    {
     "data": {
      "text/plain": [
       "Index(['current_loan_amount', 'credit_score', 'annual_income', 'monthly_debt',\n",
       "       'years_of_credit_history', 'months_since_last_delinquent',\n",
       "       'number_of_open_accounts', 'number_of_credit_problems',\n",
       "       'current_credit_balance', 'maximum_open_credit', 'bankruptcies',\n",
       "       'tax_liens', 'defaulter_or_not', 'long_term', 'short_term',\n",
       "       'havemortgage', 'home_mortgage', 'own_home', 'rent', 'business_loan',\n",
       "       'buy_a_car', 'buy_house', 'debt_consolidation', 'educational_expenses',\n",
       "       'home_improvements', 'major_purchase', 'medical_bills', 'moving',\n",
       "       'other', 'renewable_energy', 'small_business', 'take_a_trip',\n",
       "       'vacation', 'wedding', '10+_years', '1_year', '2_years', '3_years',\n",
       "       '4_years', '5_years', '6_years', '7_years', '8_years', '9_years',\n",
       "       '<_1_year', 'n/a'],\n",
       "      dtype='object')"
      ]
     },
     "execution_count": 49,
     "metadata": {},
     "output_type": "execute_result"
    }
   ],
   "source": [
    "loan_data.columns"
   ]
  },
  {
   "cell_type": "code",
   "execution_count": 50,
   "metadata": {
    "collapsed": false
   },
   "outputs": [],
   "source": [
    "X = loan_data[['current_loan_amount', 'credit_score', 'annual_income', 'monthly_debt',\n",
    "       'years_of_credit_history', 'months_since_last_delinquent',\n",
    "       'number_of_open_accounts', 'number_of_credit_problems',\n",
    "       'current_credit_balance', 'maximum_open_credit', 'bankruptcies',\n",
    "       'tax_liens', 'long_term', 'short_term',\n",
    "       'havemortgage', 'home_mortgage', 'own_home', 'rent', 'business_loan',\n",
    "       'buy_a_car', 'buy_house', 'debt_consolidation', 'educational_expenses',\n",
    "       'home_improvements', 'major_purchase', 'medical_bills', 'moving',\n",
    "       'other', 'renewable_energy', 'small_business', 'take_a_trip',\n",
    "       'vacation', 'wedding', '10+_years', '1_year', '2_years', '3_years',\n",
    "       '4_years', '5_years', '6_years', '7_years', '8_years', '9_years',\n",
    "       '<_1_year', 'n/a']]\n",
    "y = loan_data['defaulter_or_not']"
   ]
  },
  {
   "cell_type": "code",
   "execution_count": 51,
   "metadata": {
    "collapsed": true
   },
   "outputs": [],
   "source": [
    "X_train, X_test, y_train, y_test = train_test_split(X, y, test_size=0.4, random_state=101)"
   ]
  },
  {
   "cell_type": "code",
   "execution_count": 52,
   "metadata": {
    "collapsed": false
   },
   "outputs": [],
   "source": [
    "from sklearn.linear_model import LogisticRegression"
   ]
  },
  {
   "cell_type": "code",
   "execution_count": 53,
   "metadata": {
    "collapsed": false
   },
   "outputs": [],
   "source": [
    "logmodel = LogisticRegression()\n",
    "t0 = time.clock()\n",
    "logmodel.fit(X_train,y_train)\n",
    "log_train_time = time.clock() - t0"
   ]
  },
  {
   "cell_type": "code",
   "execution_count": 54,
   "metadata": {
    "collapsed": false
   },
   "outputs": [],
   "source": [
    "t0 = time.clock()\n",
    "log_predictions = logmodel.predict(X_test)\n",
    "log_predictions_time = time.clock() - t0"
   ]
  },
  {
   "cell_type": "markdown",
   "metadata": {
    "collapsed": false
   },
   "source": [
    "#### Logistic Regression Model Evaluation: \n",
    "\n",
    "For the purpose of model evaluation we will use Clissification Report and Confusion Matrix.\n",
    "\n",
    "#### Clissification Report: \n",
    "The classification report shows a representation of the main classification metrics on a per-class basis. This gives a deeper intuition of the classifier behavior over global accuracy which can mask functional weaknesses in one class of a multiclass problem.\n",
    "\n",
    "#### Confusion Matrix: \n",
    "A confusion matrix is an N X N matrix, where N is the number of classes being predicted. It tells us about the distribution of our predicted values across all the actual outcomes.\n"
   ]
  },
  {
   "cell_type": "code",
   "execution_count": 55,
   "metadata": {
    "collapsed": false
   },
   "outputs": [
    {
     "name": "stdout",
     "output_type": "stream",
     "text": [
      "[[34268    82]\n",
      " [ 8138  1955]]\n"
     ]
    }
   ],
   "source": [
    "print(confusion_matrix(y_test,log_predictions))"
   ]
  },
  {
   "cell_type": "code",
   "execution_count": 56,
   "metadata": {
    "collapsed": false
   },
   "outputs": [
    {
     "name": "stdout",
     "output_type": "stream",
     "text": [
      "             precision    recall  f1-score   support\n",
      "\n",
      "          0       0.81      1.00      0.89     34350\n",
      "          1       0.96      0.19      0.32     10093\n",
      "\n",
      "avg / total       0.84      0.82      0.76     44443\n",
      "\n"
     ]
    }
   ],
   "source": [
    "print(classification_report(y_test,log_predictions))"
   ]
  },
  {
   "cell_type": "code",
   "execution_count": 57,
   "metadata": {
    "collapsed": false
   },
   "outputs": [
    {
     "name": "stdout",
     "output_type": "stream",
     "text": [
      "accuracy: 0.81504398893\n",
      "Precision: 0.959744722631\n",
      "Recall: 0.193698602992\n",
      "f1_score: 0.322341302556\n"
     ]
    }
   ],
   "source": [
    "regr_accuracy=accuracy_score(y_test, log_predictions)\n",
    "regr_precision=precision_score(y_test, log_predictions,average='weighted')\n",
    "regr_recall=recall_score(y_test, log_predictions,average='weighted')\n",
    "regr_f1=f1_score(y_test,log_predictions,average='weighted')\n",
    "print(\"accuracy:\", regr_accuracy)\n",
    "print(\"Precision:\", regr_precision)\n",
    "print(\"Recall:\", regr_recall)\n",
    "print('f1_score:',regr_f1)"
   ]
  },
  {
   "cell_type": "markdown",
   "metadata": {},
   "source": [
    "### k-Nearest Neighbours :\n",
    "The k-NN algorithm is arguably the simplest machine learning algorithm. Building the model consists only of storing the training dataset. To make a prediction for a new data point, the algorithm finds the closest data points in the training dataset—its “nearest neighbors.”\n",
    "\n",
    "#### Choosing the factor K:\n",
    "We can see that the boundary becomes smoother with increasing value of K. With K increasing to infinity it finally becomes all blue or all red depending on the total majority.  The training error rate and the validation error rate are two parameters we need to access on different K-value. \n",
    "\n",
    "Now we are trying to come up with a model to predict whether someone will TARGET CLASS or not. We'll start with k=1."
   ]
  },
  {
   "cell_type": "code",
   "execution_count": 58,
   "metadata": {
    "collapsed": true
   },
   "outputs": [],
   "source": [
    "from sklearn.neighbors import KNeighborsClassifier"
   ]
  },
  {
   "cell_type": "code",
   "execution_count": 59,
   "metadata": {
    "collapsed": true
   },
   "outputs": [],
   "source": [
    "knn = KNeighborsClassifier(n_neighbors=1)"
   ]
  },
  {
   "cell_type": "code",
   "execution_count": 60,
   "metadata": {
    "collapsed": false
   },
   "outputs": [],
   "source": [
    "t0 = time.clock()\n",
    "knn.fit(X_train,y_train)\n",
    "knn_train_time = time.clock() - t0"
   ]
  },
  {
   "cell_type": "code",
   "execution_count": 61,
   "metadata": {
    "collapsed": true
   },
   "outputs": [],
   "source": [
    "t0 = time.clock()\n",
    "knn_predictions = knn.predict(X_test)\n",
    "knn_predictions_time = time.clock() - t0"
   ]
  },
  {
   "cell_type": "code",
   "execution_count": 62,
   "metadata": {
    "collapsed": false
   },
   "outputs": [
    {
     "name": "stdout",
     "output_type": "stream",
     "text": [
      "[[29132  5218]\n",
      " [ 6262  3831]]\n"
     ]
    }
   ],
   "source": [
    "print(confusion_matrix(y_test,knn_predictions))"
   ]
  },
  {
   "cell_type": "code",
   "execution_count": 63,
   "metadata": {
    "collapsed": false
   },
   "outputs": [
    {
     "name": "stdout",
     "output_type": "stream",
     "text": [
      "             precision    recall  f1-score   support\n",
      "\n",
      "          0       0.82      0.85      0.84     34350\n",
      "          1       0.42      0.38      0.40     10093\n",
      "\n",
      "avg / total       0.73      0.74      0.74     44443\n",
      "\n"
     ]
    }
   ],
   "source": [
    "print(classification_report(y_test,knn_predictions))"
   ]
  },
  {
   "cell_type": "code",
   "execution_count": 64,
   "metadata": {
    "collapsed": false
   },
   "outputs": [
    {
     "name": "stdout",
     "output_type": "stream",
     "text": [
      "accuracy: 0.741691604977\n",
      "Precision: 0.423361697425\n",
      "Recall: 0.379569999009\n",
      "f1_score: 0.400271653955\n"
     ]
    }
   ],
   "source": [
    "knn_accuracy=accuracy_score(y_test, knn_predictions)\n",
    "knn_precision=precision_score(y_test, knn_predictions,average='weighted')\n",
    "knn_recall=recall_score(y_test, knn_predictions,average='weighted')\n",
    "knn_f1=f1_score(y_test,knn_predictions,average='weighted')\n",
    "print(\"accuracy:\", knn_accuracy)\n",
    "print(\"Precision:\", knn_precision)\n",
    "print(\"Recall:\", knn_recall)\n",
    "print('f1_score:',knn_f1)"
   ]
  },
  {
   "cell_type": "markdown",
   "metadata": {},
   "source": [
    "#### Choosing a K Value\n",
    "\n",
    "Now we will use the elbow method to pick a good K Value:"
   ]
  },
  {
   "cell_type": "code",
   "execution_count": 65,
   "metadata": {
    "collapsed": true
   },
   "outputs": [],
   "source": [
    "error_rate = []\n",
    "\n",
    "for i in range(1,40):\n",
    "    \n",
    "    knn = KNeighborsClassifier(n_neighbors=i)\n",
    "    knn.fit(X_train,y_train)\n",
    "    pred_i = knn.predict(X_test)\n",
    "    error_rate.append(np.mean(pred_i != y_test))"
   ]
  },
  {
   "cell_type": "code",
   "execution_count": 66,
   "metadata": {
    "collapsed": false
   },
   "outputs": [
    {
     "data": {
      "text/plain": [
       "<matplotlib.text.Text at 0x16eca798c18>"
      ]
     },
     "execution_count": 66,
     "metadata": {},
     "output_type": "execute_result"
    },
    {
     "data": {
      "image/png": "[encoded data removed]",
      "text/plain": [
       "<matplotlib.figure.Figure at 0x16eca791518>"
      ]
     },
     "metadata": {},
     "output_type": "display_data"
    }
   ],
   "source": [
    "plt.figure(figsize=(10,6))\n",
    "plt.plot(range(1,40),error_rate,color='blue', linestyle='dashed', marker='o',\n",
    "         markerfacecolor='red', markersize=10)\n",
    "plt.title('Error Rate vs. K Value')\n",
    "plt.xlabel('K')\n",
    "plt.ylabel('Error Rate')"
   ]
  },
  {
   "cell_type": "markdown",
   "metadata": {},
   "source": [
    "From the above diagram we can see that that after arouns K>20 the error rate just tends to hover around .20-.23. To finilize the K value for oure model we will retrain the model with that and check the classification report and we will use K=20."
   ]
  },
  {
   "cell_type": "code",
   "execution_count": 67,
   "metadata": {
    "collapsed": false
   },
   "outputs": [
    {
     "name": "stdout",
     "output_type": "stream",
     "text": [
      "WITH K=1\n",
      "\n",
      "\n",
      "[[29132  5218]\n",
      " [ 6262  3831]]\n",
      "\n",
      "\n",
      "             precision    recall  f1-score   support\n",
      "\n",
      "          0       0.82      0.85      0.84     34350\n",
      "          1       0.42      0.38      0.40     10093\n",
      "\n",
      "avg / total       0.73      0.74      0.74     44443\n",
      "\n"
     ]
    }
   ],
   "source": [
    "# FIRST A QUICK COMPARISON TO OUR ORIGINAL K=1\n",
    "knn = KNeighborsClassifier(n_neighbors=1)\n",
    "\n",
    "knn.fit(X_train,y_train)\n",
    "knnpredictions = knn.predict(X_test)\n",
    "\n",
    "print('WITH K=1')\n",
    "print('\\n')\n",
    "print(confusion_matrix(y_test,knnpredictions))\n",
    "print('\\n')\n",
    "print(classification_report(y_test,knnpredictions))"
   ]
  },
  {
   "cell_type": "code",
   "execution_count": 68,
   "metadata": {
    "collapsed": false
   },
   "outputs": [
    {
     "name": "stdout",
     "output_type": "stream",
     "text": [
      "WITH K=20\n",
      "\n",
      "\n",
      "[[34112   238]\n",
      " [ 8642  1451]]\n",
      "\n",
      "\n",
      "             precision    recall  f1-score   support\n",
      "\n",
      "          0       0.80      0.99      0.88     34350\n",
      "          1       0.86      0.14      0.25     10093\n",
      "\n",
      "avg / total       0.81      0.80      0.74     44443\n",
      "\n"
     ]
    }
   ],
   "source": [
    "# NOW WITH K=20\n",
    "knn = KNeighborsClassifier(n_neighbors=20)\n",
    "\n",
    "knn.fit(X_train,y_train)\n",
    "knn_predictions = knn.predict(X_test)\n",
    "\n",
    "print('WITH K=20')\n",
    "print('\\n')\n",
    "print(confusion_matrix(y_test,knn_predictions))\n",
    "print('\\n')\n",
    "print(classification_report(y_test,knn_predictions))"
   ]
  },
  {
   "cell_type": "code",
   "execution_count": 69,
   "metadata": {
    "collapsed": false
   },
   "outputs": [
    {
     "name": "stdout",
     "output_type": "stream",
     "text": [
      "accuracy: 0.800193506289\n",
      "Precision: 0.85908821788\n",
      "Recall: 0.143763004062\n",
      "f1_score: 0.246307927347\n"
     ]
    }
   ],
   "source": [
    "knn_accuracy=accuracy_score(y_test, knn_predictions)\n",
    "knn_precision=precision_score(y_test, knn_predictions,average='weighted')\n",
    "knn_recall=recall_score(y_test, knn_predictions,average='weighted')\n",
    "knn_f1=f1_score(y_test,knn_predictions,average='weighted')\n",
    "print(\"accuracy:\", knn_accuracy)\n",
    "print(\"Precision:\", knn_precision)\n",
    "print(\"Recall:\", knn_recall)\n",
    "print('f1_score:',knn_f1)"
   ]
  },
  {
   "cell_type": "markdown",
   "metadata": {},
   "source": [
    "###### Strengths, weaknesses, and parameters of kNN :\n",
    "In principle, there are two important parameters to the KNeighbors classifier: \n",
    "1. The number of neighbors \n",
    "2. How we measure distance between data points. In practice, using a small number of neighbors like three or five often works well, but you should certainly adjust this parameter. \n",
    "\n",
    "There are several advantages of Knn :\n",
    "The model is very easy to understand, and often gives reasonable performance without a lot of adjustments .Using this algorithm is a good baseline method to try before considering mIore advanced techniques.\n",
    "On the other hand though it is fast but for larger training set prediction may be slow .It does not perform well when data set have many features . In these later method we will try to reduce or overcome the limitation of Knn"
   ]
  },
  {
   "cell_type": "markdown",
   "metadata": {},
   "source": [
    "### Decision Trees :\n",
    "\n",
    "Decision tree builds classification or regression models in the form of a tree structure. It breaks down a dataset into smaller and smaller subsets while at the same time an associated decision tree is incrementally developed. The final result is a tree with decision nodes and leaf nodes. A decision node has two or more branches. Leaf node represents a classification or decision. The topmost decision node in a tree which corresponds to the best predictor called root node. Decision trees can handle both categorical and numerical data. "
   ]
  },
  {
   "cell_type": "code",
   "execution_count": 70,
   "metadata": {
    "collapsed": true
   },
   "outputs": [],
   "source": [
    "from sklearn.tree import DecisionTreeClassifier"
   ]
  },
  {
   "cell_type": "code",
   "execution_count": 71,
   "metadata": {
    "collapsed": true
   },
   "outputs": [],
   "source": [
    "dtree = DecisionTreeClassifier()"
   ]
  },
  {
   "cell_type": "code",
   "execution_count": 72,
   "metadata": {
    "collapsed": false
   },
   "outputs": [],
   "source": [
    "t0 = time.clock()\n",
    "dtree.fit(X_train,y_train)\n",
    "dtree_train_time = time.clock() - t0"
   ]
  },
  {
   "cell_type": "code",
   "execution_count": 73,
   "metadata": {
    "collapsed": true
   },
   "outputs": [],
   "source": [
    "t0 = time.clock()\n",
    "dtree_predictions = dtree.predict(X_test)\n",
    "dtree_predictions_time = time.clock() - t0"
   ]
  },
  {
   "cell_type": "code",
   "execution_count": 75,
   "metadata": {
    "collapsed": false
   },
   "outputs": [
    {
     "name": "stdout",
     "output_type": "stream",
     "text": [
      "[[28464  5886]\n",
      " [ 5562  4531]]\n",
      "             precision    recall  f1-score   support\n",
      "\n",
      "          0       0.84      0.83      0.83     34350\n",
      "          1       0.43      0.45      0.44     10093\n",
      "\n",
      "avg / total       0.75      0.74      0.74     44443\n",
      "\n"
     ]
    }
   ],
   "source": [
    "print(confusion_matrix(y_test,dtree_predictions))\n",
    "\n",
    "print(classification_report(y_test,dtree_predictions))"
   ]
  },
  {
   "cell_type": "code",
   "execution_count": 76,
   "metadata": {
    "collapsed": false
   },
   "outputs": [
    {
     "name": "stdout",
     "output_type": "stream",
     "text": [
      "accuracy: 0.742411628378\n",
      "Precision: 0.434962081213\n",
      "Recall: 0.448924997523\n",
      "f1_score: 0.441833252072\n"
     ]
    }
   ],
   "source": [
    "dtree_accuracy=accuracy_score(y_test, dtree_predictions)\n",
    "dtree_precision=precision_score(y_test, dtree_predictions,average='weighted')\n",
    "dtree_recall=recall_score(y_test, dtree_predictions,average='weighted')\n",
    "dtree_f1=f1_score(y_test,dtree_predictions,average='weighted')\n",
    "print(\"accuracy:\", dtree_accuracy)\n",
    "print(\"Precision:\", dtree_precision)\n",
    "print(\"Recall:\", dtree_recall)\n",
    "print('f1_score:',dtree_f1)"
   ]
  },
  {
   "cell_type": "markdown",
   "metadata": {},
   "source": [
    "##### Strengths, weaknesses, and parameters\n",
    "As discussed earlier, the parameters that control model complexity in decision trees are the pre-pruning parameters that stop the building of the tree before it is fully developed. Usually, picking one of the pre-pruning strategies—setting either max_depth, max_leaf_nodes, or min_samples_leaf—is sufficient to prevent overfitting.\n",
    "\n",
    "Advantages includes :\n",
    "the resulting model can easily be visualized and understood by nonexperts (at least for smaller trees), and the algorithms are completely invariant to scaling of the data. As each feature is processed separately, and the possible splits of the data don’t depend on scaling, no preprocessing like normalization or standardization of features is needed for decision tree algorithms. In particular, decision trees work well when you have features that are on completely different scales, or a mix of binary and continuous features.\n",
    "\n",
    "The main downside of decision trees is that even with the use of pre-pruning, they tend to overfit and provide poor generalization performance. Therefore, in most applications, the ensemble methods we discuss next are usually used in place of a single decision tree."
   ]
  },
  {
   "cell_type": "markdown",
   "metadata": {},
   "source": [
    "### Random Forest Model :\n",
    "Bagging is a technique used to reduce the variance of our predictions by combining the result of multiple classifiers modeled on different sub-samples of the same data set. The following figure will make it clearer .\n",
    "The steps followed in bagging are:\n",
    "\n",
    "1. Create Multiple DataSets:\n",
    "Sampling is done with replacement on the original data and new datasets are formed.The new data sets can have a fraction of the columns as well as rows, which are generally hyper-parameters in a bagging model.\n",
    "Taking row and column fractions less than 1 helps in making robust models, less prone to overfitting\n",
    "2. Build Multiple Classifiers:\n",
    "Classifiers are built on each data set.\n",
    "Generally the same classifier is modeled on each data set and predictions are made.\n",
    "3. Combine Classifiers:\n",
    "The predictions of all the classifiers are combined using a mean, median or mode value depending on the problem at hand.\n",
    "The combined values are generally more robust than a single model."
   ]
  },
  {
   "cell_type": "code",
   "execution_count": 77,
   "metadata": {
    "collapsed": true
   },
   "outputs": [],
   "source": [
    "from sklearn.ensemble import RandomForestClassifier"
   ]
  },
  {
   "cell_type": "code",
   "execution_count": 78,
   "metadata": {
    "collapsed": true
   },
   "outputs": [],
   "source": [
    "rfc = RandomForestClassifier(n_estimators=15)"
   ]
  },
  {
   "cell_type": "code",
   "execution_count": 79,
   "metadata": {
    "collapsed": false
   },
   "outputs": [],
   "source": [
    "t0 = time.clock()\n",
    "rfc.fit(X_train,y_train)\n",
    "rfc_train_time = time.clock() - t0"
   ]
  },
  {
   "cell_type": "code",
   "execution_count": 80,
   "metadata": {
    "collapsed": true
   },
   "outputs": [],
   "source": [
    "t0 = time.clock()\n",
    "rfc_predictions = rfc.predict(X_test)\n",
    "rfc_predictions_time = time.clock() - t0"
   ]
  },
  {
   "cell_type": "code",
   "execution_count": 81,
   "metadata": {
    "collapsed": false
   },
   "outputs": [
    {
     "name": "stdout",
     "output_type": "stream",
     "text": [
      "[[33202  1148]\n",
      " [ 7141  2952]]\n",
      "             precision    recall  f1-score   support\n",
      "\n",
      "          0       0.82      0.97      0.89     34350\n",
      "          1       0.72      0.29      0.42     10093\n",
      "\n",
      "avg / total       0.80      0.81      0.78     44443\n",
      "\n"
     ]
    }
   ],
   "source": [
    "print(confusion_matrix(y_test,rfc_predictions))\n",
    "\n",
    "print(classification_report(y_test,rfc_predictions))"
   ]
  },
  {
   "cell_type": "code",
   "execution_count": 82,
   "metadata": {
    "collapsed": false
   },
   "outputs": [
    {
     "name": "stdout",
     "output_type": "stream",
     "text": [
      "accuracy: 0.813491438472\n",
      "Precision: 0.72\n",
      "Recall: 0.29247993659\n",
      "f1_score: 0.415979708307\n"
     ]
    }
   ],
   "source": [
    "rfc_accuracy=accuracy_score(y_test, rfc_predictions)\n",
    "rfc_precision=precision_score(y_test, rfc_predictions,average='weighted')\n",
    "rfc_recall=recall_score(y_test, rfc_predictions,average='weighted')\n",
    "rfc_f1=f1_score(y_test,rfc_predictions,average='weighted')\n",
    "print(\"accuracy:\", rfc_accuracy)\n",
    "print(\"Precision:\", rfc_precision)\n",
    "print(\"Recall:\", rfc_recall)\n",
    "print('f1_score:',rfc_f1)"
   ]
  },
  {
   "cell_type": "markdown",
   "metadata": {},
   "source": [
    "##### Strengths, weaknesses, and parameters\n",
    "\n",
    "This algorithm can solve both type of problems i.e. classification and regression and does a decent estimation at both fronts.\n",
    "One of benefits of Random forest which excites me most is, the power of handle large data set with higher dimensionality. It can handle thousands of input variables and identify most significant variables so it is considered as one of the dimensionality reduction methods. Further, the model outputs Importance of variable, which can be a very handy feature (on some random data set).\n"
   ]
  },
  {
   "cell_type": "code",
   "execution_count": 83,
   "metadata": {
    "collapsed": false
   },
   "outputs": [],
   "source": [
    "#appending all socres\n",
    "arraycuracy=[]\n",
    "arraycuracy.append(regr_accuracy)\n",
    "arraycuracy.append(knn_accuracy)\n",
    "arraycuracy.append(dtree_accuracy)\n",
    "arraycuracy.append(rfc_accuracy)\n",
    "precisionray=[]\n",
    "precisionray.append(regr_precision)\n",
    "precisionray.append(knn_precision)\n",
    "precisionray.append(dtree_precision)\n",
    "precisionray.append(rfc_precision)\n",
    "recallray=[]\n",
    "recallray.append(regr_recall)\n",
    "recallray.append(knn_recall)\n",
    "recallray.append(dtree_recall)\n",
    "recallray.append(rfc_recall)\n",
    "f1ray=[]\n",
    "f1ray.append(regr_f1)\n",
    "f1ray.append(knn_f1)\n",
    "f1ray.append(dtree_f1)\n",
    "f1ray.append(rfc_f1)\n",
    "train_time=[]\n",
    "train_time.append(log_train_time)\n",
    "train_time.append(knn_train_time)\n",
    "train_time.append(dtree_train_time)\n",
    "train_time.append(rfc_train_time)\n",
    "predictions_time=[]\n",
    "predictions_time.append(log_predictions_time)\n",
    "predictions_time.append(knn_predictions_time)\n",
    "predictions_time.append(dtree_predictions_time)\n",
    "predictions_time.append(rfc_predictions_time)"
   ]
  },
  {
   "cell_type": "code",
   "execution_count": 85,
   "metadata": {
    "collapsed": false
   },
   "outputs": [
    {
     "data": {
      "image/png": "[encoded data removed]",
      "text/plain": [
       "<matplotlib.figure.Figure at 0x16ec4e6f390>"
      ]
     },
     "metadata": {},
     "output_type": "display_data"
    }
   ],
   "source": [
    "from matplotlib.ticker import MaxNLocator\n",
    "from collections import namedtuple\n",
    "\n",
    "n_groups = 4\n",
    "\n",
    "fig, ax = plt.subplots(figsize=(12,6))\n",
    "\n",
    "index = np.arange(n_groups)\n",
    "bar_width = 0.1\n",
    "\n",
    "opacity = 0.9\n",
    "error_config = {'ecolor': '0.6'}\n",
    "\n",
    "ax.bar(index, arraycuracy, bar_width, alpha=opacity, color='r',  error_kw=error_config, label='arraycuracy')\n",
    "ax.bar(index + 0.1, precisionray, bar_width, alpha=opacity, color='c',  error_kw=error_config,label='precisionray')\n",
    "ax.bar(index + 0.2, recallray, bar_width, alpha=opacity, color='b',  error_kw=error_config, label='recallray')\n",
    "ax.bar(index + 0.3, f1ray, bar_width, alpha=opacity, color='y',  error_kw=error_config,label='f1ray')\n",
    "ax.bar(index + 0.4, train_time, bar_width, alpha=opacity, color='g',  error_kw=error_config,label='tr time')\n",
    "ax.bar(index + 0.5, predictions_time, bar_width, alpha=opacity, color='m',  error_kw=error_config,label='pred time')\n",
    "\n",
    "ax.set_ylabel('Scores')\n",
    "ax.set_title('Scores by Algorithm')\n",
    "ax.set_xticks(index + bar_width / 2)\n",
    "ax.set_xticklabels(('Log_reg','knn','dtree','rfc'))\n",
    "ax.legend()\n",
    "\n",
    "fig.tight_layout()\n",
    "plt.show()"
   ]
  },
  {
   "cell_type": "markdown",
   "metadata": {
    "collapsed": false
   },
   "source": [
    "### Conclusion :\n",
    "The basic purpose of the study contains credit risk modeling with a machine learning algorithm. Basically, we have tried to establish a solid comparison between different classification algorithm and improve the accuracy of the prediction by increasing accuracy and minimizing errors, bias and varience. As a result, we got Logistic Regression as the best performing model in trems of accuracy, precision and timing and Decission Tree is the worst. However, due to Hardware resource limitation we have failed to test a lot of othres machine learning algorithm with a large amount of data. May be if we incorporate better learning algorithm and better and improved data cleaning and collection and handling missing values properly the result would have been different."
   ]
  },
  {
   "cell_type": "markdown",
   "metadata": {
    "collapsed": true
   },
   "source": [
    "### Reference :\n",
    "1. Jasson Brownlee: Master Machine Learning Algorithm\n",
    "2. Peter Harrington: Machine Learning in Action\n",
    "3. Gareth James, Daniela Witten, Trevor Hastie and Robert Tibshirani: An Introduction to Statistical Learning\n",
    "4. Introduction to Statistical Learning: http://www-bcf.usc.edu/~gareth/ISL/\n",
    "5. LaTeX guides : https://www.sharelatex.com/learn/Aligning_equations_with_amsmath\n",
    "6. German Credit Data Analysis : https://onlinecourses.science.psu.edu/stat857/node/215\n",
    "7. Andreas C. Müller, Sarah Guido : Introduction to Machine Learning with Python ,classification and Regression pages 39--57\n",
    "8. Data Source: https://gallery.azure.ai/Competition/1ad7a6df99794816b9bc071e27d46b10\n",
    "9. Credit Scoring using Machine Learning Techniques: International Journal of Computer Applications (0975 – 8887) Volume 161 – No 11, March 2017"
   ]
  }
 ],
 "metadata": {
  "anaconda-cloud": {},
  "kernelspec": {
   "display_name": "Python [conda root]",
   "language": "python",
   "name": "conda-root-py"
  },
  "language_info": {
   "codemirror_mode": {
    "name": "ipython",
    "version": 3
   },
   "file_extension": ".py",
   "mimetype": "text/x-python",
   "name": "python",
   "nbconvert_exporter": "python",
   "pygments_lexer": "ipython3",
   "version": "3.5.2"
  }
 },
 "nbformat": 4,
 "nbformat_minor": 1
}
